{
 "cells": [
  {
   "cell_type": "markdown",
   "id": "8da81928-7bf9-453e-90ba-f53622f3af4f",
   "metadata": {},
   "source": [
    "# Day 7 - The Treachery of Whales\n"
   ]
  },
  {
   "cell_type": "markdown",
   "id": "ff6c56c1-435f-45f9-80a1-8197c66be251",
   "metadata": {},
   "source": [
    "Link to page: https://adventofcode.com/2021/day/7"
   ]
  },
  {
   "cell_type": "markdown",
   "id": "b1df0513-9b8c-4a76-8fac-a1d6c78a8bda",
   "metadata": {},
   "source": [
    "A giant whale has decided your submarine is its next meal, and it's much faster than you are. There's nowhere to run!\n",
    "\n",
    "Suddenly, a swarm of crabs (each in its own tiny submarine - it's too deep for them otherwise) zooms in to rescue you! They seem to be preparing to blast a hole in the ocean floor; sensors indicate a massive underground cave system just beyond where they're aiming!\n",
    "\n",
    "The crab submarines all need to be aligned before they'll have enough power to blast a large enough hole for your submarine to get through. However, it doesn't look like they'll be aligned before the whale catches you! Maybe you can help?\n",
    "\n",
    "There's one major catch - crab submarines can only move horizontally.\n",
    "\n",
    "You quickly make a list of the horizontal position of each crab (your puzzle input). Crab submarines have limited fuel, so you need to find a way to make all of their horizontal positions match while requiring them to spend as little fuel as possible.\n",
    "\n",
    "For example, consider the following horizontal positions:\n",
    "\n",
    "16,1,2,0,4,2,7,1,2,14\n",
    "This means there's a crab with horizontal position 16, a crab with horizontal position 1, and so on.\n",
    "\n",
    "Each change of 1 step in horizontal position of a single crab costs 1 fuel. You could choose any horizontal position to align them all on, but the one that costs the least fuel is horizontal position 2:\n",
    "<code>\n",
    "Move from 16 to 2: 14 fuel\n",
    "Move from 1 to 2: 1 fuel\n",
    "Move from 2 to 2: 0 fuel\n",
    "Move from 0 to 2: 2 fuel\n",
    "Move from 4 to 2: 2 fuel\n",
    "Move from 2 to 2: 0 fuel\n",
    "Move from 7 to 2: 5 fuel\n",
    "Move from 1 to 2: 1 fuel\n",
    "Move from 2 to 2: 0 fuel\n",
    "Move from 14 to 2: 12 fuel\n",
    "</code>\n",
    "This costs a total of 37 fuel. This is the cheapest possible outcome; more expensive outcomes include aligning at position 1 (41 fuel), position 3 (39 fuel), or position 10 (71 fuel)."
   ]
  },
  {
   "cell_type": "code",
   "execution_count": 11,
   "id": "0340f0c8-b4fd-448d-9b7b-daa0eef73fe6",
   "metadata": {},
   "outputs": [],
   "source": [
    "import pandas as pd\n",
    "import numpy as np\n",
    "import sys\n",
    "np.set_printoptions(threshold=sys.maxsize)\n",
    "#np.set_printoptions(threshold=50)\n"
   ]
  },
  {
   "cell_type": "code",
   "execution_count": 12,
   "id": "9172bca4-7e9d-45af-80b8-975d90153c8f",
   "metadata": {},
   "outputs": [
    {
     "data": {
      "text/plain": [
       "'C:\\\\Users\\\\incardo\\\\PycharmProjects\\\\advent_of_code_2021'"
      ]
     },
     "execution_count": 12,
     "metadata": {},
     "output_type": "execute_result"
    }
   ],
   "source": [
    "pwd"
   ]
  },
  {
   "cell_type": "code",
   "execution_count": 77,
   "id": "c1974ce3-1701-4111-aae2-949b64350b77",
   "metadata": {
    "tags": []
   },
   "outputs": [
    {
     "data": {
      "text/plain": [
       "array([1101,    1,   29,   67, 1102,    0,    1,   65, 1008,   65,   35,\n",
       "         66, 1005,   66,   28,    1,   67,   65,   20,    4,    0, 1001,\n",
       "         65,    1,   65, 1106,    0,    8,   99,   35,   67,  101,   99,\n",
       "        105,   32,  110,   39,  101,  115,  116,   32,  112,   97,  115,\n",
       "         32,  117,  110,  101,   32,  105,  110,  116,   99,  111,  100,\n",
       "        101,   32,  112,  114,  111,  103,  114,   97,  109,   10,   48,\n",
       "        221,  311,  159,  144, 1257, 1247,   28,  567,  700,  110,  711,\n",
       "        602, 1033, 1260, 1403,  573,   14,  214,  305,  229,  541,  165,\n",
       "        314, 1924,  465,  806,  649,    1, 1220,  342,   80,  168,  288,\n",
       "        222,   92,    4, 1239, 1319, 1145,  233,  557, 1285,  963,  291,\n",
       "       1283,   55, 1617,   17,  379, 1373,  320,  300,  632, 1457,  166,\n",
       "        282,    8,   36,   66,   32,  376,  156,  482,  291,  512,   62,\n",
       "        172,   92, 1389,    4,  286,  168,  619, 1781,  785,  468,  300,\n",
       "        820, 1070,  213,  304,   66,  106,   89,  156,  653,  459,   34,\n",
       "        425,  935,  295, 1771,   81,  213,   22,  105,  315, 1225,  229,\n",
       "        591,  428,  694,  305,  225,  982, 1014,  117,  346, 1234, 1679,\n",
       "        272,  869,  185,  512,  831,  787,  705,   50,  538,  490,  809,\n",
       "        206, 1247,  261,  463, 1255,  590,  427,   54,  153,  219,  826,\n",
       "       1036,  228,   36,    8,  214,  483,   36,  352,  118,  179, 1377,\n",
       "        565,   81, 1122,   80,   43,  359,  571,  293,  234,  906, 1091,\n",
       "        270,  464,  246,   47,   42,  131,  148,    7,  214,  182,  635,\n",
       "        712, 1644, 1565,  138,  567,  152,  515,  134,  161, 1760,  396,\n",
       "          4,  281, 1174,  172,  699,  538, 1422,    2, 1664, 1552, 1736,\n",
       "        329,  195,  317,  539, 1231,  133,   95,  297,  244,  308,  980,\n",
       "        641,  706,  323,   25,  520, 1655, 1307, 1367,  182,  586,   35,\n",
       "        341,  421,  543,  804,   65,   54,  242,  542,  595, 1172,  734,\n",
       "        653,  181,  474,  815,  546,   17,   40,  385,  169,   29,   38,\n",
       "        216,  193,  164,  466,  121,   35,  532,  693,  628, 1213,  107,\n",
       "         61,  534,  470, 1066,  135,  372,   87,  433,  111, 1276, 1547,\n",
       "        275,  455,  131,  527,  791, 1246,  851,  110,  377,  391,  879,\n",
       "        858,  680,   32,  161,  498, 1634,  354,  535,  251,   47,  257,\n",
       "        270,  281, 1297,  620,  164, 1110,   33,  457,  616,   85,  915,\n",
       "         79, 1453,   80,  391,  631,  866,    6,  764, 1021,   16,  822,\n",
       "        137, 1119,  101, 1158,  226, 1537,  382,  538, 1026,  131,  533,\n",
       "        300,  273,  967,   76,  683,  776, 1854,  221,   72,  850,   68,\n",
       "        112, 1482,  564,   75,  218,   70,  271,   63,  999,  680,  217,\n",
       "        211, 1550,  445,  916,    8,    5,  181, 1048,  107,  248,  375,\n",
       "        513,  626,  683,   33,  513,  225,  497, 1118,  549,  460,  249,\n",
       "        682, 1216,   95,   41,  481, 1342,  718, 1470,  457,    8,  334,\n",
       "        187,    7,  837,  519,  595,  126,  577,  858,  140,  333,   83,\n",
       "        682, 1470,   39,  131,  516,  611,  287,   30,   44,  144,   24,\n",
       "       1058,  139,  469,  702,  258,  104,  746,  645,  311,   29,  647,\n",
       "        438,  108,  225,  866, 1468,  543,  717,  210, 1300, 1063,  448,\n",
       "         44, 1257,  149,  349,  537,  148,  472,  770,   51, 1638,  629,\n",
       "        373,  530,  607,   80,  392,  465,   98, 1113,  499,  237,  649,\n",
       "         44,  365,  121,   65,   77,  557,  845,  619,  625,   38,  650,\n",
       "        949,  589,  113,  379,  151,   36,   30,   65,  192, 1421,  883,\n",
       "         23,  412,  245,  550,  936,  128,  408,   84,  164, 1318,  568,\n",
       "        420, 1098,  580,  621,  482,    5,  375,  104,   32,   32,   90,\n",
       "        264,  599,  163,   70, 1379,  521,  535,  489,  714,   26,  178,\n",
       "        571,  860,  713, 1560, 1017,  172,   19,  535,  170,  526,  125,\n",
       "         37,  151, 1006,   25,   79,    1,   53,   69,  881,  411,  516,\n",
       "         32,  249,   45,   10,  258,   98,  310,  158,  219,  191,  123,\n",
       "       1835,  651,    8,  129,  769,   52,  168,  588,  414,  226, 1569,\n",
       "        480,  129,  305,  559,   23,  317,  106,  576,   63,  966,   72,\n",
       "        467,    7,  265,    7, 1046,  863,  449,  467,  826,  788,  773,\n",
       "        627,  249,  201,  489,  981,  434,  543,  907, 1158,  111,   80,\n",
       "        153,   30,   36,  937, 1593,  961,  463,   62,  498,  315,   84,\n",
       "        306,  283,  677, 1140,   52,  438,  600,  489,  224, 1593,  147,\n",
       "        138,   82,  391,  250,  435,  584,  181, 1303,   91, 1426,  373,\n",
       "        219,  196,  221,  155, 1505,  820,  631,  558,  685,  572,  117,\n",
       "       1253,  305, 1558,  822,  273,    1,  127,  130, 1292,   50,  380,\n",
       "        100,    3,  492,  199,  206,   20,  752,  159,  288,  682,  286,\n",
       "       1232,  553,  778,   75,  543,  417, 1517,  850,    3,  852,  257,\n",
       "        544,   84,  126,  371,  546,  180,   43,  317,  577,  680,  178,\n",
       "        103,  254, 1496,  275, 1107, 1424,  379,   33,   81,   43,  191,\n",
       "        178,  185,  209,  360,    9,  313,  528,  812,  112,  146,   52,\n",
       "        541,  339,  271,  255,  631,   22,  351,  104, 1186,  330, 1128,\n",
       "        345,  373,  254,  570,  155,  761, 1732,  416,  975,  318,  835,\n",
       "         44,   82, 1464,   28,  691,  224,  853,  813,   68, 1180,  595,\n",
       "         42,    5, 1521,  289,  694,  506,   98,    6,  439,  618,   50,\n",
       "        603,  137,  533,  859, 1054,   71,  103,  292,  235,   17,  301,\n",
       "        220,   48,  738,  354,  283,  200,  665, 1645,   14, 1050,  895,\n",
       "        670,  100, 1160,  890,  678,  242,  111,  602, 1294,  177, 1005,\n",
       "          0,  379,  859,  784,  306,   78,  300, 1003,   48,  421,  493,\n",
       "         64, 1322,  916,  403,  456,  700,  351,  642,  122,  720,  455,\n",
       "        100,  255,  357,  141,  315,  225,  445,   94, 1343,  112,  512,\n",
       "         40,  677,  322,  597,  471,  761,  598,   30,  382,  619,  999,\n",
       "        951,  389,  417,   85,   87,  242, 1351, 1319,   70,  119,  420,\n",
       "        528,   40,  278,  911,  102,  788,   76,  724,  522,   31,  109,\n",
       "       1298,  270,  262,  685, 1095,  637, 1459,   93,  532,  156,  222,\n",
       "        843,  689,  141,   37,  232,  456,   63,  866,  760,  109,    3,\n",
       "        436,  972,    0, 1737,    2, 1836,  362,  711,  340,  415,  387,\n",
       "          1,  362,   43,  164,  188,  634,    9,   35,  212,   21,  139,\n",
       "        158,   53,   14,  234,  276,  107,  775,  192,    2,  407,  628,\n",
       "        222,    4,  186,  172,  454,  929,  373,  265,  271,    3,  487,\n",
       "       1784,  544,  449,  393,  799,  666,  730,  899,  938,   16,  441,\n",
       "        634,  365,   45,  284,    5,  499,  864,  106,  109,  651, 1480,\n",
       "        183,  158,  115,  412,   80, 1516,  235,  253,  125,  123,  495,\n",
       "        809,  499,  261,   73,  127,    3,   39,  377,  268,  501,  912,\n",
       "       1025,  462,  163,   71,  528,  424,   99, 1732, 1214,  327])"
      ]
     },
     "execution_count": 77,
     "metadata": {},
     "output_type": "execute_result"
    }
   ],
   "source": [
    "with open('input_files/day7_input.txt') as f:\n",
    "    lines = f.read().splitlines()\n",
    "\n",
    "crab_list = np.array([int(x) for x in lines[0].split(\",\")])\n",
    "crab_list"
   ]
  },
  {
   "cell_type": "markdown",
   "id": "5248efab-88ff-4b6c-a003-f8ffff4a0722",
   "metadata": {},
   "source": [
    "### Part 1"
   ]
  },
  {
   "cell_type": "markdown",
   "id": "b9132a57-c96a-4d92-a574-54fc6309c816",
   "metadata": {},
   "source": [
    "Determine the horizontal position that the crabs can align to using the least fuel possible. How much fuel must they spend to align to that position?"
   ]
  },
  {
   "cell_type": "code",
   "execution_count": 84,
   "id": "a7046cd3-4e80-4c77-9fdb-1d4e551bc3b2",
   "metadata": {},
   "outputs": [
    {
     "data": {
      "text/plain": [
       "331067.0"
      ]
     },
     "execution_count": 84,
     "metadata": {},
     "output_type": "execute_result"
    }
   ],
   "source": [
    "def calc_fuel_alignment(crab_list):\n",
    "    target = np.median(crab_list)\n",
    "    fuel = np.sum(abs(crab_list-target))\n",
    "    return fuel\n",
    "\n",
    "calc_fuel_alignment(crab_list)"
   ]
  },
  {
   "cell_type": "markdown",
   "id": "3cae26cb-ba82-46b7-8310-c940ebece163",
   "metadata": {},
   "source": [
    "### Part 2"
   ]
  },
  {
   "cell_type": "markdown",
   "id": "454c1078-5c12-4c79-a1ec-d678f2b909f0",
   "metadata": {},
   "source": [
    "The crabs don't seem interested in your proposed solution. Perhaps you misunderstand crab engineering?\n",
    "\n",
    "As it turns out, crab submarine engines don't burn fuel at a constant rate. Instead, each change of 1 step in horizontal position costs 1 more unit of fuel than the last: the first step costs 1, the second step costs 2, the third step costs 3, and so on.\n",
    "\n",
    "As each crab moves, moving further becomes more expensive. This changes the best horizontal position to align them all on; in the example above, this becomes 5:\n",
    "<code>\n",
    "Move from 16 to 5: 66 fuel\n",
    "Move from 1 to 5: 10 fuel\n",
    "Move from 2 to 5: 6 fuel\n",
    "Move from 0 to 5: 15 fuel\n",
    "Move from 4 to 5: 1 fuel\n",
    "Move from 2 to 5: 6 fuel\n",
    "Move from 7 to 5: 3 fuel\n",
    "Move from 1 to 5: 10 fuel\n",
    "Move from 2 to 5: 6 fuel\n",
    "Move from 14 to 5: 45 fuel\n",
    "</code>\n",
    "This costs a total of 168 fuel. This is the new cheapest possible outcome; the old alignment position (2) now costs 206 fuel instead.\n",
    "\n",
    "Determine the horizontal position that the crabs can align to using the least fuel possible so they can make you an escape route! How much fuel must they spend to align to that position?"
   ]
  },
  {
   "cell_type": "code",
   "execution_count": 90,
   "id": "3da91e13-dd7d-40d1-b07f-536b0338c90f",
   "metadata": {},
   "outputs": [
    {
     "name": "stdout",
     "output_type": "stream",
     "text": [
      "331067 92881128\n"
     ]
    }
   ],
   "source": [
    "part1, part2 = float(\"inf\"), float(\"inf\")\n",
    "#calculate the difference between each value of the array and all the possible values in the range (min, max). Then take the sum of differences which is smaller\n",
    "    \n",
    "for target in range(min(crab_list), max(crab_list)): \n",
    "    diffs = [abs(i-target) for i in crab_list]\n",
    "    sums = [(n*(n+1))/2 for n in diffs] \n",
    "\n",
    "    part1 = min(part1, sum(diffs)) #re-assign the min at each iteration\n",
    "    part2 = min(part2, sum(sums))  #re-assign the min at each iteration\n",
    "\n",
    "print(part1, int(part2))"
   ]
  }
 ],
 "metadata": {
  "kernelspec": {
   "display_name": "Python 3",
   "language": "python",
   "name": "python3"
  },
  "language_info": {
   "codemirror_mode": {
    "name": "ipython",
    "version": 3
   },
   "file_extension": ".py",
   "mimetype": "text/x-python",
   "name": "python",
   "nbconvert_exporter": "python",
   "pygments_lexer": "ipython3",
   "version": "3.7.3"
  }
 },
 "nbformat": 4,
 "nbformat_minor": 5
}
