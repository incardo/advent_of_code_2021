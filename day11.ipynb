{
 "cells": [
  {
   "cell_type": "markdown",
   "metadata": {},
   "source": [
    "# Day 11"
   ]
  },
  {
   "cell_type": "code",
   "execution_count": 194,
   "metadata": {},
   "outputs": [],
   "source": [
    "import pandas as pd\n",
    "import numpy as np\n",
    "import sys\n",
    "#np.set_printoptions(threshold=sys.maxsize)\n"
   ]
  },
  {
   "cell_type": "code",
   "execution_count": 195,
   "metadata": {},
   "outputs": [
    {
     "name": "stdout",
     "output_type": "stream",
     "text": [
      "[[4 7 2 1 2 2 4 6 6 3]\n",
      " [6 8 7 5 4 1 5 2 7 6]\n",
      " [2 7 4 2 4 4 8 4 2 8]\n",
      " [4 8 7 8 2 3 1 5 5 6]\n",
      " [5 6 8 4 6 4 3 7 4 3]\n",
      " [3 5 5 3 6 8 1 8 6 6]\n",
      " [4 7 8 8 1 8 3 6 2 5]\n",
      " [4 2 5 5 8 5 6 5 3 2]\n",
      " [1 4 1 5 8 1 8 7 7 5]\n",
      " [2 3 2 6 8 8 6 1 2 5]]\n"
     ]
    }
   ],
   "source": [
    "data = np.genfromtxt('input_files/day11_input.txt', delimiter=1, dtype=int)\n",
    "print(data)"
   ]
  },
  {
   "cell_type": "markdown",
   "metadata": {},
   "source": [
    "### Part 1"
   ]
  },
  {
   "cell_type": "code",
   "execution_count": 197,
   "metadata": {},
   "outputs": [],
   "source": [
    "rows, cols = len(data[0]), len(data[1])\n",
    "\n",
    "def get_adjacent(r, c):\n",
    "    adjacent = []\n",
    "    for i, j in ((r-1, c), (r, c-1), (r, c+1), (r+1, c), (r+1, c+1), (r-1,c-1), (r+1, c-1), (r-1,c+1)):\n",
    "        if 0 <= i < rows and 0 <= j < cols:\n",
    "            adjacent.append((i, j))\n",
    "    return adjacent\n",
    "\n",
    "def flash_cells(x, y, data):\n",
    "    data[x,y]=0\n",
    "    adjance_cells = get_adjacent(x, y)\n",
    "    for coord in get_adjacent(x,y): # increase energy levels of the adjacent cells\n",
    "        x = coord[0]\n",
    "        y = coord[1]\n",
    "        if data[x,y] != 0: # do not increase the counter for already exploded cells\n",
    "            data[x,y] = data[x,y]+1\n",
    "    return data\n",
    "\n",
    "def run_one_step(data):\n",
    "    data+=1\n",
    "    count_flash=0\n",
    "    while np.count_nonzero(data > 9)>0: # keep iterating until all the octopus have exploded\n",
    "        for x in range(0, len(data[0])):\n",
    "            for y in range(0, len(data[1])):\n",
    "                if data[x, y] > 9:\n",
    "                    #print(\"flashing octopus\", x, y)\n",
    "                    flash_cells(x, y, data)\n",
    "                    count_flash+=1\n",
    "                    #print(data)\n",
    "    return (data, count_flash)\n",
    "\n",
    "def run_n_steps(data, n):\n",
    "    data_run = data.copy()\n",
    "    count_flash_all=0\n",
    "    for loop in range(0, n):\n",
    "        #run_one_step(data)\n",
    "        count_flash_all+=run_one_step(data_run)[1]\n",
    "    return data_run, count_flash_all"
   ]
  },
  {
   "cell_type": "code",
   "execution_count": 198,
   "metadata": {},
   "outputs": [
    {
     "data": {
      "text/plain": [
       "(array([[7, 9, 0, 0, 0, 0, 8, 6, 5, 5],\n",
       "        [9, 3, 5, 0, 0, 4, 2, 8, 6, 5],\n",
       "        [2, 2, 3, 6, 3, 2, 1, 1, 8, 6],\n",
       "        [2, 2, 2, 4, 1, 1, 1, 1, 1, 8],\n",
       "        [3, 3, 2, 3, 5, 1, 1, 1, 1, 1],\n",
       "        [1, 4, 2, 2, 3, 5, 1, 1, 1, 1],\n",
       "        [1, 4, 2, 2, 2, 3, 5, 1, 1, 1],\n",
       "        [8, 3, 2, 2, 2, 2, 3, 6, 1, 1],\n",
       "        [6, 8, 2, 2, 2, 2, 3, 6, 3, 2],\n",
       "        [5, 6, 8, 2, 2, 2, 3, 0, 0, 2]]),\n",
       " 1675)"
      ]
     },
     "execution_count": 198,
     "metadata": {},
     "output_type": "execute_result"
    }
   ],
   "source": [
    "run_n_steps(data, 100)"
   ]
  },
  {
   "cell_type": "markdown",
   "metadata": {},
   "source": [
    "### Part 2"
   ]
  },
  {
   "cell_type": "code",
   "execution_count": 201,
   "metadata": {},
   "outputs": [],
   "source": [
    "def check_if_all_flashing(data):\n",
    "    data_run = data.copy()\n",
    "    n = 0\n",
    "    while np.count_nonzero(data_run > 0) > 0:\n",
    "        run_one_step(data_run)\n",
    "        n+=1\n",
    "    return data_run, n"
   ]
  },
  {
   "cell_type": "code",
   "execution_count": 202,
   "metadata": {},
   "outputs": [
    {
     "data": {
      "text/plain": [
       "(array([[0, 0, 0, 0, 0, 0, 0, 0, 0, 0],\n",
       "        [0, 0, 0, 0, 0, 0, 0, 0, 0, 0],\n",
       "        [0, 0, 0, 0, 0, 0, 0, 0, 0, 0],\n",
       "        [0, 0, 0, 0, 0, 0, 0, 0, 0, 0],\n",
       "        [0, 0, 0, 0, 0, 0, 0, 0, 0, 0],\n",
       "        [0, 0, 0, 0, 0, 0, 0, 0, 0, 0],\n",
       "        [0, 0, 0, 0, 0, 0, 0, 0, 0, 0],\n",
       "        [0, 0, 0, 0, 0, 0, 0, 0, 0, 0],\n",
       "        [0, 0, 0, 0, 0, 0, 0, 0, 0, 0],\n",
       "        [0, 0, 0, 0, 0, 0, 0, 0, 0, 0]]),\n",
       " 515)"
      ]
     },
     "execution_count": 202,
     "metadata": {},
     "output_type": "execute_result"
    }
   ],
   "source": [
    "check_if_all_flashing(data)"
   ]
  }
 ],
 "metadata": {
  "kernelspec": {
   "display_name": "Python 3 (ipykernel)",
   "language": "python",
   "name": "python3"
  },
  "language_info": {
   "codemirror_mode": {
    "name": "ipython",
    "version": 3
   },
   "file_extension": ".py",
   "mimetype": "text/x-python",
   "name": "python",
   "nbconvert_exporter": "python",
   "pygments_lexer": "ipython3",
   "version": "3.8.11"
  }
 },
 "nbformat": 4,
 "nbformat_minor": 4
}
