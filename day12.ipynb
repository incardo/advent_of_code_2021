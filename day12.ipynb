{
 "cells": [
  {
   "cell_type": "markdown",
   "id": "70f75241-1065-4f06-bce1-b4a7c27bb9c3",
   "metadata": {},
   "source": [
    "# Day 12"
   ]
  },
  {
   "cell_type": "code",
   "execution_count": 35,
   "id": "1d7b31a2-199a-4f90-8c44-f8162a3ee6d6",
   "metadata": {},
   "outputs": [],
   "source": [
    "import pandas as pd\n",
    "import numpy as np\n",
    "import sys\n",
    "#np.set_printoptions(threshold=sys.maxsize)\n"
   ]
  },
  {
   "cell_type": "code",
   "execution_count": 43,
   "id": "ce55725c-e43f-4d4f-9d5d-358e84427406",
   "metadata": {},
   "outputs": [],
   "source": [
    "with open('input_files/day12_input.txt') as f:\n",
    "    lines = f.read().splitlines()"
   ]
  },
  {
   "cell_type": "code",
   "execution_count": 44,
   "id": "ce1afc8b-2ce3-4889-9822-1f60f350b594",
   "metadata": {},
   "outputs": [
    {
     "data": {
      "text/plain": [
       "['start-kc',\n",
       " 'pd-NV',\n",
       " 'start-zw',\n",
       " 'UI-pd',\n",
       " 'HK-end',\n",
       " 'UI-kc',\n",
       " 'pd-ih',\n",
       " 'ih-end',\n",
       " 'start-UI',\n",
       " 'kc-zw',\n",
       " 'end-ks',\n",
       " 'MF-mq',\n",
       " 'HK-zw',\n",
       " 'LF-ks',\n",
       " 'HK-kc',\n",
       " 'ih-HK',\n",
       " 'kc-pd',\n",
       " 'ks-pd',\n",
       " 'MF-pd',\n",
       " 'UI-zw',\n",
       " 'ih-NV',\n",
       " 'ks-HK',\n",
       " 'MF-kc',\n",
       " 'zw-NV',\n",
       " 'NV-ks']"
      ]
     },
     "execution_count": 44,
     "metadata": {},
     "output_type": "execute_result"
    }
   ],
   "source": [
    "lines"
   ]
  },
  {
   "cell_type": "markdown",
   "id": "d1c85beb-99a7-4012-b4b1-627a3ea7fd93",
   "metadata": {},
   "source": [
    "### Part 1"
   ]
  },
  {
   "cell_type": "code",
   "execution_count": 38,
   "id": "004b41ab-94c6-4ea5-9afb-c8f6541e8bcd",
   "metadata": {},
   "outputs": [
    {
     "data": {
      "text/plain": [
       "{'start': {'UI', 'kc', 'zw'},\n",
       " 'kc': {'HK', 'MF', 'UI', 'pd', 'start', 'zw'},\n",
       " 'pd': {'MF', 'NV', 'UI', 'ih', 'kc', 'ks'},\n",
       " 'NV': {'ih', 'ks', 'pd', 'zw'},\n",
       " 'zw': {'HK', 'NV', 'UI', 'kc', 'start'},\n",
       " 'UI': {'kc', 'pd', 'start', 'zw'},\n",
       " 'HK': {'end', 'ih', 'kc', 'ks', 'zw'},\n",
       " 'end': {'HK', 'ih', 'ks'},\n",
       " 'ih': {'HK', 'NV', 'end', 'pd'},\n",
       " 'ks': {'HK', 'LF', 'NV', 'end', 'pd'},\n",
       " 'MF': {'kc', 'mq', 'pd'},\n",
       " 'mq': {'MF'},\n",
       " 'LF': {'ks'}}"
      ]
     },
     "execution_count": 38,
     "metadata": {},
     "output_type": "execute_result"
    }
   ],
   "source": [
    "def create_map(lines):\n",
    "    map_caves = {}\n",
    "    for char in lines:\n",
    "        lhs = char.split(\"-\")[0]\n",
    "        rhs = char.split(\"-\")[1]\n",
    "        #print(lhs, rhs)\n",
    "\n",
    "        if lhs not in map_caves.keys():\n",
    "            map_caves[lhs] = {rhs}\n",
    "        else:\n",
    "            map_caves[lhs].update({rhs})\n",
    "\n",
    "        if rhs not in map_caves.keys():\n",
    "            map_caves[rhs] = {lhs}\n",
    "        else:\n",
    "            map_caves[rhs].update({lhs})\n",
    "\n",
    "    return map_caves\n",
    "\n",
    "map_caves = create_map(lines)\n",
    "map_caves"
   ]
  },
  {
   "cell_type": "code",
   "execution_count": 39,
   "id": "353fa701-b636-4028-94b8-c0058e548589",
   "metadata": {},
   "outputs": [],
   "source": [
    "from collections import Counter\n",
    "\n",
    "# Visit small caves at least once\n",
    "# Visit big caves any number of times\n",
    "caves_list = list(set(map_caves.keys())-set([\"start\", \"end\"]))\n",
    "big_caves = [cave for cave in caves_list if cave.isupper()]\n",
    "small_caves = list(set(caves_list)-set(big_caves))\n",
    "\n",
    "def node_allowed(graph, path, node):\n",
    "    #check if there is at maximum one small cave in the path if not skip to the next alternative\n",
    "    d = Counter([e for e in path if e in small_caves]) \n",
    "    if (d[node] < 1):\n",
    "        return True\n",
    "    else:\n",
    "        return False \n",
    "    \n",
    "def find_all_paths(graph, start, end, path=[]):\n",
    "    path = path + [start] #append the starting node\n",
    "        \n",
    "    if start == end: #end of allowed path\n",
    "        return [path]\n",
    "    paths = []\n",
    "    for node in graph[start]:\n",
    "        if node not in [\"start\"]:\n",
    "            if node_allowed(graph, path, node):\n",
    "                newpaths = find_all_paths(graph, node, end, path) #Start from the latest allowed node\n",
    "                for newpath in newpaths:\n",
    "                    paths.append(newpath)\n",
    "        else:\n",
    "            continue\n",
    "    return paths  "
   ]
  },
  {
   "cell_type": "code",
   "execution_count": 40,
   "id": "9f9ccf18-17b3-493e-a686-01507d4c914e",
   "metadata": {
    "tags": []
   },
   "outputs": [
    {
     "name": "stdout",
     "output_type": "stream",
     "text": [
      "4720\n"
     ]
    }
   ],
   "source": [
    "print(len(find_all_paths(map_caves, \"start\", \"end\", [])))"
   ]
  },
  {
   "cell_type": "markdown",
   "id": "03a8f0fb-8b70-4467-aab2-05f2d746a166",
   "metadata": {},
   "source": [
    "### Part 2"
   ]
  },
  {
   "cell_type": "code",
   "execution_count": 41,
   "id": "8df0df67-b6d5-4236-920b-9dfc1820f472",
   "metadata": {},
   "outputs": [],
   "source": [
    "def node_allowed(graph, path, node):\n",
    "    d = Counter([e for e in path if e in small_caves])\n",
    "    # if (node == \"start\"):\n",
    "    #     return False\n",
    "    if (node not in d): # access all caves that are not small\n",
    "        return True\n",
    "    if (d[node] == 1) & (len([(k, v) for k, v in d.items() if k!=node if v == 2]) == 0): #allow cave accessed only once and not other cave accessed twice already\n",
    "        return True\n",
    "    return False"
   ]
  },
  {
   "cell_type": "code",
   "execution_count": 42,
   "id": "392a51e9-4865-43ea-ae98-6b2398320925",
   "metadata": {},
   "outputs": [
    {
     "name": "stdout",
     "output_type": "stream",
     "text": [
      "147848\n"
     ]
    }
   ],
   "source": [
    "print(len(find_all_paths(map_caves, \"start\", \"end\", [])))"
   ]
  }
 ],
 "metadata": {
  "kernelspec": {
   "display_name": "Python 3 (ipykernel)",
   "language": "python",
   "name": "python3"
  },
  "language_info": {
   "codemirror_mode": {
    "name": "ipython",
    "version": 3
   },
   "file_extension": ".py",
   "mimetype": "text/x-python",
   "name": "python",
   "nbconvert_exporter": "python",
   "pygments_lexer": "ipython3",
   "version": "3.8.11"
  }
 },
 "nbformat": 4,
 "nbformat_minor": 5
}
