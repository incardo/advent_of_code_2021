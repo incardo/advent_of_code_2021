{
 "cells": [
  {
   "cell_type": "markdown",
   "id": "70f75241-1065-4f06-bce1-b4a7c27bb9c3",
   "metadata": {},
   "source": [
    "# Day 12"
   ]
  },
  {
   "cell_type": "code",
   "execution_count": 25,
   "id": "1d7b31a2-199a-4f90-8c44-f8162a3ee6d6",
   "metadata": {},
   "outputs": [],
   "source": [
    "import pandas as pd\n",
    "import numpy as np\n",
    "import sys\n",
    "#np.set_printoptions(threshold=sys.maxsize)\n"
   ]
  },
  {
   "cell_type": "code",
   "execution_count": 26,
   "id": "ce55725c-e43f-4d4f-9d5d-358e84427406",
   "metadata": {},
   "outputs": [],
   "source": [
    "with open('input_files/day12_input.txt') as f:\n",
    "    lines = f.read().splitlines()"
   ]
  },
  {
   "cell_type": "code",
   "execution_count": 27,
   "id": "ce1afc8b-2ce3-4889-9822-1f60f350b594",
   "metadata": {},
   "outputs": [
    {
     "data": {
      "text/plain": [
       "['start-A', 'start-b', 'A-c', 'A-b', 'b-d', 'A-end', 'b-end']"
      ]
     },
     "execution_count": 27,
     "metadata": {},
     "output_type": "execute_result"
    }
   ],
   "source": [
    "lines"
   ]
  },
  {
   "cell_type": "markdown",
   "id": "d1c85beb-99a7-4012-b4b1-627a3ea7fd93",
   "metadata": {},
   "source": [
    "### Part 1"
   ]
  },
  {
   "cell_type": "code",
   "execution_count": 28,
   "id": "004b41ab-94c6-4ea5-9afb-c8f6541e8bcd",
   "metadata": {},
   "outputs": [
    {
     "data": {
      "text/plain": [
       "{'start': {'A', 'b'},\n",
       " 'A': {'b', 'c', 'end', 'start'},\n",
       " 'b': {'A', 'd', 'end', 'start'},\n",
       " 'c': {'A'},\n",
       " 'd': {'b'},\n",
       " 'end': {'A', 'b'}}"
      ]
     },
     "execution_count": 28,
     "metadata": {},
     "output_type": "execute_result"
    }
   ],
   "source": [
    "def create_map(lines):\n",
    "    map_caves = {}\n",
    "    for char in lines:\n",
    "        lhs = char.split(\"-\")[0]\n",
    "        rhs = char.split(\"-\")[1]\n",
    "        #print(lhs, rhs)\n",
    "\n",
    "        if lhs not in map_caves.keys():\n",
    "            map_caves[lhs] = {rhs}\n",
    "        else:\n",
    "            map_caves[lhs].update({rhs})\n",
    "\n",
    "        if rhs not in map_caves.keys():\n",
    "            map_caves[rhs] = {lhs}\n",
    "        else:\n",
    "            map_caves[rhs].update({lhs})\n",
    "\n",
    "    return map_caves\n",
    "\n",
    "map_caves = create_map(lines)\n",
    "map_caves"
   ]
  },
  {
   "cell_type": "code",
   "execution_count": 29,
   "id": "353fa701-b636-4028-94b8-c0058e548589",
   "metadata": {},
   "outputs": [],
   "source": [
    "from collections import Counter\n",
    "\n",
    "# Visit small caves at least once\n",
    "# Visit big caves any number of times\n",
    "caves_list = list(set(map_caves.keys())-set([\"start\", \"end\"]))\n",
    "big_caves = [cave for cave in caves_list if cave.isupper()]\n",
    "small_caves = list(set(caves_list)-set(big_caves))\n",
    "\n",
    "def node_allowed(graph, path, node):\n",
    "    #check if there is at maximum one small cave in the path if not skip to the next alternative\n",
    "    d = Counter([e for e in path if e in small_caves]) \n",
    "    if (d[node] < 1):\n",
    "        return True\n",
    "    else:\n",
    "        return False \n",
    "    \n",
    "def find_all_paths(graph, start, end, path=[]):\n",
    "    path = path + [start] #append the starting node\n",
    "        \n",
    "    if start == end: #end of allowed path\n",
    "        return [path]\n",
    "    paths = []\n",
    "    for node in graph[start]:\n",
    "        if node not in [\"start\"]:\n",
    "            if node_allowed(graph, path, node):\n",
    "                newpaths = find_all_paths(graph, node, end, path) #Start from the latest allowed node\n",
    "                for newpath in newpaths:\n",
    "                    paths.append(newpath)\n",
    "        else:\n",
    "            continue\n",
    "    return paths  "
   ]
  },
  {
   "cell_type": "code",
   "execution_count": 30,
   "id": "9f9ccf18-17b3-493e-a686-01507d4c914e",
   "metadata": {
    "tags": []
   },
   "outputs": [
    {
     "name": "stdout",
     "output_type": "stream",
     "text": [
      "10\n"
     ]
    }
   ],
   "source": [
    "print(len(find_all_paths(map_caves, \"start\", \"end\", [])))"
   ]
  },
  {
   "cell_type": "markdown",
   "id": "03a8f0fb-8b70-4467-aab2-05f2d746a166",
   "metadata": {},
   "source": [
    "### Part 2"
   ]
  },
  {
   "cell_type": "code",
   "execution_count": 31,
   "id": "8df0df67-b6d5-4236-920b-9dfc1820f472",
   "metadata": {},
   "outputs": [],
   "source": [
    "def node_allowed(graph, path, node):\n",
    "    d = Counter([e for e in path if e in small_caves])\n",
    "    # if (node == \"start\"):\n",
    "    #     return False\n",
    "    if (node not in d): # access all caves that are not small\n",
    "        return True\n",
    "    if (d[node] == 1) & (len([(k, v) for k, v in d.items() if k!=node if v == 2]) == 0): #allow cave has been accessed only once\n",
    "        return True\n",
    "    return False"
   ]
  },
  {
   "cell_type": "code",
   "execution_count": 32,
   "id": "392a51e9-4865-43ea-ae98-6b2398320925",
   "metadata": {},
   "outputs": [
    {
     "name": "stdout",
     "output_type": "stream",
     "text": [
      "36\n"
     ]
    }
   ],
   "source": [
    "print(len(find_all_paths(map_caves, \"start\", \"end\", [])))"
   ]
  },
  {
   "cell_type": "code",
   "execution_count": 16,
   "id": "0f85e150-54d3-45de-ac05-856591620289",
   "metadata": {},
   "outputs": [
    {
     "name": "stdout",
     "output_type": "stream",
     "text": [
      "part1: 7\n"
     ]
    }
   ],
   "source": [
    "from itertools import chain\n",
    "from collections import Counter , deque\n",
    "\n",
    "input = []\n",
    "with open('input_files/day12_input.txt') as f:\n",
    "    for line in f.readlines():\n",
    "        input.append((line.split('-')[0], line.split('-')[-1][:-1]))\n",
    "\n",
    "\n",
    "def create_graph(input):\n",
    "    g = {i: [] for i in (sorted(set(chain.from_iterable(input)), reverse=True))}\n",
    "    for i in input:\n",
    "        g[i[0]].append(i[-1])\n",
    "        g[i[-1]].append(i[0])\n",
    "    return g\n",
    "\n",
    "\n",
    "def find_all_paths(graph, start, end, path=[]):\n",
    "    path = path + [start]\n",
    "    if start == end:\n",
    "        return [path]\n",
    "    paths = []\n",
    "    for node in graph[start]:\n",
    "        if node_allowed(graph, path, node):\n",
    "            newpaths = find_all_paths(graph, node, end, path)\n",
    "            for newpath in newpaths:\n",
    "                paths.append(newpath)\n",
    "    return paths  \n",
    "\n",
    "\n",
    "if '__main__' == __name__:\n",
    "\n",
    "    part = '1'\n",
    "\n",
    "    if part == \"1\":\n",
    "        # part 1 condition\n",
    "        def node_allowed(graph, path, node):\n",
    "            small_caves = [k for k, _ in graph.items() if k == k.lower()]\n",
    "            d = Counter([e for e in path if e in small_caves])\n",
    "            if (d[node] < 1):\n",
    "                return True\n",
    "            else:\n",
    "                return False\n",
    "\n",
    "        paths = find_all_paths(create_graph(input), 'start', 'end', [])\n",
    "        print(f'part1: {len(paths)}')\n",
    "\n",
    "    else:\n",
    "        #  part 2 condition\n",
    "        def node_allowed(graph, path, node):\n",
    "            small_caves = [k for k, _ in graph.items() if k == k.lower() if k not in [\"start\", \"end\"]]\n",
    "            d = Counter([e for e in path if e in small_caves])\n",
    "            if (node == \"start\"):\n",
    "                return False\n",
    "            if (node not in d):\n",
    "                return True\n",
    "            if (d[node] == 1) & (len([(k, v) for k, v in d.items() if k!=node if v == 2]) == 0):\n",
    "                return True\n",
    "            return False\n",
    "\n",
    "        paths = find_all_paths(create_graph(input), 'start', 'end', [])\n",
    "        print(f'part2: {len(paths)}')"
   ]
  }
 ],
 "metadata": {
  "kernelspec": {
   "display_name": "Python 3 (ipykernel)",
   "language": "python",
   "name": "python3"
  },
  "language_info": {
   "codemirror_mode": {
    "name": "ipython",
    "version": 3
   },
   "file_extension": ".py",
   "mimetype": "text/x-python",
   "name": "python",
   "nbconvert_exporter": "python",
   "pygments_lexer": "ipython3",
   "version": "3.8.11"
  }
 },
 "nbformat": 4,
 "nbformat_minor": 5
}
