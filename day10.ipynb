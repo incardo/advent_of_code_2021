{
 "cells": [
  {
   "cell_type": "markdown",
   "metadata": {},
   "source": [
    "# Day 10"
   ]
  },
  {
   "cell_type": "code",
   "execution_count": 141,
   "metadata": {},
   "outputs": [],
   "source": [
    "import pandas as pd\n",
    "import numpy as np\n",
    "import sys\n",
    "#np.set_printoptions(threshold=sys.maxsize)\n"
   ]
  },
  {
   "cell_type": "code",
   "execution_count": 142,
   "metadata": {},
   "outputs": [],
   "source": [
    "with open('input_files/day10_input.txt') as f:\n",
    "    lines = f.read().splitlines()"
   ]
  },
  {
   "cell_type": "code",
   "execution_count": 143,
   "metadata": {
    "tags": []
   },
   "outputs": [
    {
     "data": {
      "text/plain": [
       "'({[[{[(([({((<[]>{[][]})[{<>[]}{[]{}}])[<[<><>][[]{}]>{[{}()][{}]}]}(<[{<>{}}[()]]<[{}[]]>><[{()}({}())]'"
      ]
     },
     "execution_count": 143,
     "metadata": {},
     "output_type": "execute_result"
    }
   ],
   "source": [
    "lines[0]"
   ]
  },
  {
   "cell_type": "code",
   "execution_count": 144,
   "metadata": {},
   "outputs": [],
   "source": [
    "def remove_simple_chunks(line):\n",
    "    len_init = len(line)\n",
    "    len_final = len(line)-1\n",
    "    \n",
    "    while len_final != len_init:\n",
    "        len_init = len(line)\n",
    "        line = line.replace(\"()\",\"\")\n",
    "        line = line.replace(\"[]\",\"\")\n",
    "        line = line.replace(\"{}\",\"\")\n",
    "        line = line.replace(\"<>\",\"\")\n",
    "        len_final = len(line)\n",
    "    return line\n",
    "\n",
    "def detect_incomplete_corrupted(line):\n",
    "    corrupt_char = []\n",
    "    for char in line:\n",
    "        if char in [\"}\", \")\", \"]\", \">\"]:\n",
    "            return (\"corrupted\", char)\n",
    "        else:\n",
    "            continue    \n",
    "    return (\"incomplete\", \"\")\n"
   ]
  },
  {
   "cell_type": "code",
   "execution_count": 145,
   "metadata": {},
   "outputs": [
    {
     "data": {
      "text/plain": [
       "318081"
      ]
     },
     "execution_count": 145,
     "metadata": {},
     "output_type": "execute_result"
    }
   ],
   "source": [
    "def calculate_syntax_error(lines):\n",
    "    total_syntax_error = 0\n",
    "    syntax_scores = {\")\":3, \"]\":57, \"}\":1197, \">\": 25137}\n",
    "\n",
    "    for i in range(0, len(lines)):\n",
    "        check = detect_incomplete_corrupted(remove_simple_chunks(lines[i]))\n",
    "        if check[0] == \"corrupted\":\n",
    "            total_syntax_error+=syntax_scores[check[1]]\n",
    "        elif check[0] == \"incomplete\":\n",
    "            continue\n",
    "\n",
    "    return total_syntax_error\n",
    "\n",
    "calculate_syntax_error(lines)"
   ]
  },
  {
   "cell_type": "markdown",
   "metadata": {},
   "source": [
    "### Part 2\n",
    "\n"
   ]
  },
  {
   "cell_type": "code",
   "execution_count": 139,
   "metadata": {},
   "outputs": [],
   "source": [
    "def complete_string(line):\n",
    "    map_par ={\"{\":\"}\", \"(\":\")\", \"[\":\"]\", \"<\":\">\"}\n",
    "    completing_string =\"\"\n",
    "    for char in reversed(line):\n",
    "        completing_string+=map_par[char]\n",
    "    return completing_string"
   ]
  },
  {
   "cell_type": "code",
   "execution_count": 158,
   "metadata": {},
   "outputs": [
    {
     "data": {
      "text/plain": [
       "4361305341"
      ]
     },
     "execution_count": 158,
     "metadata": {},
     "output_type": "execute_result"
    }
   ],
   "source": [
    "def calculate_middle_score(lines):\n",
    "    total_scores_list = []\n",
    "    char_scores = {\")\":1, \"]\":2, \"}\":3, \">\": 4}\n",
    "\n",
    "    for i in range(0, len(lines)):\n",
    "        check = detect_incomplete_corrupted(remove_simple_chunks(lines[i]))\n",
    "        if check[0] == \"corrupted\":\n",
    "            continue\n",
    "        elif check[0] == \"incomplete\":\n",
    "            completing_string = complete_string(remove_simple_chunks(lines[i]))\n",
    "            string_score = 0\n",
    "            for char in completing_string:\n",
    "                string_score *=5\n",
    "                string_score += char_scores[char]\n",
    "            total_scores_list.append(string_score)\n",
    "    \n",
    "    total_scores_list.sort()\n",
    "    middle_score = total_scores_list[round(len(total_scores_list)/2)-1]\n",
    "    return middle_score\n",
    "\n",
    "calculate_middle_score(lines)"
   ]
  }
 ],
 "metadata": {
  "kernelspec": {
   "display_name": "Python 3 (ipykernel)",
   "language": "python",
   "name": "python3"
  },
  "language_info": {
   "codemirror_mode": {
    "name": "ipython",
    "version": 3
   },
   "file_extension": ".py",
   "mimetype": "text/x-python",
   "name": "python",
   "nbconvert_exporter": "python",
   "pygments_lexer": "ipython3",
   "version": "3.8.11"
  }
 },
 "nbformat": 4,
 "nbformat_minor": 4
}
