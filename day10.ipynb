{
 "cells": [
  {
   "cell_type": "markdown",
   "metadata": {},
   "source": [
    "# Day 10"
   ]
  },
  {
   "cell_type": "code",
   "execution_count": 2,
   "metadata": {},
   "outputs": [],
   "source": [
    "import pandas as pd\n",
    "import numpy as np\n",
    "import sys\n",
    "#np.set_printoptions(threshold=sys.maxsize)\n",
    "np.set_printoptions(threshold=100)\n"
   ]
  },
  {
   "cell_type": "code",
   "execution_count": 3,
   "metadata": {},
   "outputs": [],
   "source": [
    "with open('input_files/day10_input.txt') as f:\n",
    "    lines = f.read().splitlines()"
   ]
  },
  {
   "cell_type": "code",
   "execution_count": 4,
   "metadata": {},
   "outputs": [
    {
     "data": {
      "text/plain": [
       "['[({(<(())[]>[[{[]{<()<>>',\n",
       " '[(()[<>])]({[<{<<[]>>(',\n",
       " '{([(<{}[<>[]}>{[]{[(<()>',\n",
       " '(((({<>}<{<{<>}{[]{[]{}',\n",
       " '[[<[([]))<([[{}[[()]]]',\n",
       " '[{[{({}]{}}([{[{{{}}([]',\n",
       " '{<[[]]>}<{[{[{[]{()[[[]',\n",
       " '[<(<(<(<{}))><([]([]()',\n",
       " '<{([([[(<>()){}]>(<<{{',\n",
       " '<{([{{}}[<[[[<>{}]]]>[]]']"
      ]
     },
     "execution_count": 4,
     "metadata": {},
     "output_type": "execute_result"
    }
   ],
   "source": [
    "lines"
   ]
  },
  {
   "cell_type": "code",
   "execution_count": 5,
   "metadata": {},
   "outputs": [
    {
     "data": {
      "text/plain": [
       "'[({(<(())[]>[[{[]{<()<>>'"
      ]
     },
     "execution_count": 5,
     "metadata": {},
     "output_type": "execute_result"
    }
   ],
   "source": [
    "lines[0]"
   ]
  },
  {
   "cell_type": "code",
   "execution_count": 42,
   "metadata": {},
   "outputs": [],
   "source": [
    "def matched(str):\n",
    "    count_curly = 0\n",
    "    count_square = 0\n",
    "    count_round = 0\n",
    "    count_triangle = 0\n",
    "    \n",
    "    for i in str:\n",
    "        print(i)\n",
    "        count_curly = (count_curly+1 if i == \"{\" else count_curly-1 if i==\"}\" else count_curly)\n",
    "        if count_curly < 0:\n",
    "            return False\n",
    "        count_square = (count_square+1 if i == \"[\" else count_square-1 if i==\"]\" else count_square)\n",
    "        if count_square < 0:\n",
    "            return False\n",
    "        count_round = (count_round+1 if i == \"(\" else count_round-1 if i==\")\" else count_round)\n",
    "        if count_round < 0:\n",
    "            return False\n",
    "        count_triangle = (count_triangle+1 if i == \"<\" else count_triangle-1 if i==\">\" else count_triangle)\n",
    "        if count_triangle < 0:\n",
    "            return False\n",
    "    return count_curly == 0, count_square == 0, count_round == 0, count_triangle == 0"
   ]
  },
  {
   "cell_type": "code",
   "execution_count": 46,
   "metadata": {
    "collapsed": true,
    "jupyter": {
     "outputs_hidden": true
    },
    "tags": []
   },
   "outputs": [
    {
     "name": "stdout",
     "output_type": "stream",
     "text": [
      "<\n",
      "(\n",
      ">\n",
      ")\n"
     ]
    },
    {
     "data": {
      "text/plain": [
       "(True, True, True, True)"
      ]
     },
     "execution_count": 46,
     "metadata": {},
     "output_type": "execute_result"
    }
   ],
   "source": [
    "matched(\"<(>)\")"
   ]
  },
  {
   "cell_type": "code",
   "execution_count": 12,
   "metadata": {},
   "outputs": [
    {
     "name": "stdout",
     "output_type": "stream",
     "text": [
      "24\n",
      "22\n",
      "24\n",
      "23\n",
      "22\n",
      "23\n",
      "23\n",
      "22\n",
      "22\n",
      "24\n"
     ]
    }
   ],
   "source": [
    "for i in range(0, len(lines)):\n",
    "    print(len(lines[i]))"
   ]
  },
  {
   "cell_type": "code",
   "execution_count": 67,
   "metadata": {},
   "outputs": [
    {
     "name": "stdout",
     "output_type": "stream",
     "text": [
      "{\n",
      "last open { last closed None\n",
      "(\n",
      "last open ( last closed None\n",
      "[\n",
      "last open [ last closed None\n",
      "(\n",
      "last open ( last closed None\n",
      "<\n",
      "last open < last closed None\n",
      "{\n",
      "last open { last closed None\n",
      "}\n",
      "last open { last closed }\n",
      "[\n",
      "last open [ last closed }\n",
      "<\n",
      "last open < last closed }\n",
      ">\n",
      "last open < last closed >\n",
      "[\n",
      "last open [ last closed >\n",
      "]\n",
      "last open [ last closed ]\n",
      "}\n",
      "last open [ last closed }\n",
      ">\n",
      "last open [ last closed >\n",
      "{\n",
      "last open { last closed >\n",
      "[\n",
      "last open [ last closed >\n",
      "]\n",
      "last open [ last closed ]\n",
      "{\n",
      "last open { last closed ]\n",
      "[\n",
      "last open [ last closed ]\n",
      "(\n",
      "last open ( last closed ]\n",
      "<\n",
      "last open < last closed ]\n",
      "(\n",
      "last open ( last closed ]\n",
      ")\n",
      "last open ( last closed )\n",
      ">\n",
      "last open ( last closed >\n",
      "5 2\n"
     ]
    }
   ],
   "source": [
    "string = \"{([(<{}[<>[]}>{[]{[(<()>\"\n",
    "last_open = None\n",
    "last_closed = None\n",
    "for char in string:\n",
    "    print(char)\n",
    "    open_parentheses = [\"{\", \"(\", \"[\", \"<\"]\n",
    "    closed_parentheses = [\"}\", \")\", \"]\", \">\"]\n",
    "\n",
    "    last_open = (char if char in open_parentheses else last_open)\n",
    "    last_closed = (char if char in closed_parentheses else last_closed)\n",
    "    print(\"last open\", last_open, \"last closed\", last_closed)\n",
    "    if last_closed == last_open:\n",
    "        \n",
    "print(string.count(\"[\"), string.count(\"]\"))"
   ]
  },
  {
   "cell_type": "code",
   "execution_count": 59,
   "metadata": {},
   "outputs": [
    {
     "ename": "SyntaxError",
     "evalue": "invalid syntax (<ipython-input-59-79fdc9454af6>, line 1)",
     "output_type": "error",
     "traceback": [
      "\u001b[1;36m  File \u001b[1;32m\"<ipython-input-59-79fdc9454af6>\"\u001b[1;36m, line \u001b[1;32m1\u001b[0m\n\u001b[1;33m    [\"(\" if [\"(\"] in [\"{\", \"(\", \"[\", \"<\"]][0]\u001b[0m\n\u001b[1;37m                                         ^\u001b[0m\n\u001b[1;31mSyntaxError\u001b[0m\u001b[1;31m:\u001b[0m invalid syntax\n"
     ]
    }
   ],
   "source": [
    "[\"(\" if \"(\" in [\"{\", \"(\", \"[\", \"<\"]][0]"
   ]
  },
  {
   "cell_type": "code",
   "execution_count": 61,
   "metadata": {},
   "outputs": [
    {
     "data": {
      "text/plain": [
       "True"
      ]
     },
     "execution_count": 61,
     "metadata": {},
     "output_type": "execute_result"
    }
   ],
   "source": [
    "\"(\" in [\"{\", \"(\", \"[\", \"<\"]"
   ]
  },
  {
   "cell_type": "code",
   "execution_count": null,
   "metadata": {},
   "outputs": [],
   "source": []
  }
 ],
 "metadata": {
  "kernelspec": {
   "display_name": "Python 3",
   "language": "python",
   "name": "python3"
  },
  "language_info": {
   "codemirror_mode": {
    "name": "ipython",
    "version": 3
   },
   "file_extension": ".py",
   "mimetype": "text/x-python",
   "name": "python",
   "nbconvert_exporter": "python",
   "pygments_lexer": "ipython3",
   "version": "3.7.3"
  }
 },
 "nbformat": 4,
 "nbformat_minor": 4
}
