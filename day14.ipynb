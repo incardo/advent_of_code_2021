{
 "cells": [
  {
   "cell_type": "markdown",
   "id": "ee59b45b-158a-4a5a-a06f-efa91227216a",
   "metadata": {},
   "source": [
    "# Day 14 "
   ]
  },
  {
   "cell_type": "code",
   "execution_count": 293,
   "id": "42f1de21-1431-4d0a-a3e7-fd126f1f8e71",
   "metadata": {},
   "outputs": [],
   "source": [
    "import pandas as pd\n",
    "import numpy as np\n",
    "import sys\n",
    "#np.set_printoptions(threshold=sys.maxsize)"
   ]
  },
  {
   "cell_type": "code",
   "execution_count": 294,
   "id": "3c8d8687-b868-423f-bd98-5658acf2ecd1",
   "metadata": {},
   "outputs": [],
   "source": [
    "with open('input_files/day14_input.txt') as f:\n",
    "    lines = f.read().splitlines()"
   ]
  },
  {
   "cell_type": "code",
   "execution_count": 99,
   "id": "1741cb81-e9b2-4bd5-bbed-ed8fa31e7878",
   "metadata": {
    "tags": []
   },
   "outputs": [
    {
     "data": {
      "text/plain": [
       "['NNCB',\n",
       " '',\n",
       " 'CH -> B',\n",
       " 'HH -> N',\n",
       " 'CB -> H',\n",
       " 'NH -> C',\n",
       " 'HB -> C',\n",
       " 'HC -> B',\n",
       " 'HN -> C',\n",
       " 'NN -> C',\n",
       " 'BH -> H',\n",
       " 'NC -> B',\n",
       " 'NB -> B',\n",
       " 'BN -> B',\n",
       " 'BB -> N',\n",
       " 'BC -> B',\n",
       " 'CC -> N',\n",
       " 'CN -> C']"
      ]
     },
     "execution_count": 99,
     "metadata": {},
     "output_type": "execute_result"
    }
   ],
   "source": [
    "lines"
   ]
  },
  {
   "cell_type": "markdown",
   "id": "3181a03a-418a-4b06-8ccd-d59e7902d182",
   "metadata": {},
   "source": [
    "### Part 1"
   ]
  },
  {
   "cell_type": "code",
   "execution_count": 295,
   "id": "2af262b7-37b5-4d9e-a4a4-5213c07d44ab",
   "metadata": {},
   "outputs": [
    {
     "data": {
      "text/plain": [
       "'OOFNFCBHCKBBVNHBNVCP'"
      ]
     },
     "execution_count": 295,
     "metadata": {},
     "output_type": "execute_result"
    }
   ],
   "source": [
    "start_polymer = lines[0]\n",
    "start_polymer"
   ]
  },
  {
   "cell_type": "code",
   "execution_count": 296,
   "id": "f1864deb-2426-4b43-95d6-c916c9489d4f",
   "metadata": {
    "collapsed": true,
    "jupyter": {
     "outputs_hidden": true
    },
    "tags": []
   },
   "outputs": [
    {
     "data": {
      "text/plain": [
       "[['PH', 'V'],\n",
       " ['OK', 'S'],\n",
       " ['KK', 'O'],\n",
       " ['BV', 'K'],\n",
       " ['CV', 'S'],\n",
       " ['SV', 'C'],\n",
       " ['CK', 'O'],\n",
       " ['PC', 'F'],\n",
       " ['SC', 'O'],\n",
       " ['KC', 'S'],\n",
       " ['KF', 'N'],\n",
       " ['SN', 'C'],\n",
       " ['SF', 'P'],\n",
       " ['OS', 'O'],\n",
       " ['OP', 'N'],\n",
       " ['FS', 'P'],\n",
       " ['FV', 'N'],\n",
       " ['CP', 'S'],\n",
       " ['VS', 'P'],\n",
       " ['PB', 'P'],\n",
       " ['HP', 'P'],\n",
       " ['PK', 'S'],\n",
       " ['FC', 'F'],\n",
       " ['SB', 'K'],\n",
       " ['NC', 'V'],\n",
       " ['PP', 'B'],\n",
       " ['PN', 'N'],\n",
       " ['VN', 'C'],\n",
       " ['NV', 'O'],\n",
       " ['OV', 'O'],\n",
       " ['BS', 'K'],\n",
       " ['FP', 'V'],\n",
       " ['NK', 'K'],\n",
       " ['PO', 'B'],\n",
       " ['HF', 'H'],\n",
       " ['VK', 'S'],\n",
       " ['ON', 'C'],\n",
       " ['KH', 'F'],\n",
       " ['HO', 'P'],\n",
       " ['OO', 'H'],\n",
       " ['BC', 'V'],\n",
       " ['CS', 'O'],\n",
       " ['OC', 'B'],\n",
       " ['VB', 'N'],\n",
       " ['OF', 'P'],\n",
       " ['FK', 'H'],\n",
       " ['OH', 'H'],\n",
       " ['CF', 'K'],\n",
       " ['CC', 'V'],\n",
       " ['BK', 'O'],\n",
       " ['BH', 'F'],\n",
       " ['VV', 'N'],\n",
       " ['KS', 'V'],\n",
       " ['FO', 'F'],\n",
       " ['SH', 'F'],\n",
       " ['OB', 'O'],\n",
       " ['VH', 'F'],\n",
       " ['HH', 'P'],\n",
       " ['PF', 'C'],\n",
       " ['NF', 'V'],\n",
       " ['VP', 'S'],\n",
       " ['CN', 'V'],\n",
       " ['SK', 'O'],\n",
       " ['FB', 'S'],\n",
       " ['FN', 'S'],\n",
       " ['BF', 'H'],\n",
       " ['FF', 'V'],\n",
       " ['CB', 'P'],\n",
       " ['NN', 'O'],\n",
       " ['VC', 'F'],\n",
       " ['HK', 'F'],\n",
       " ['BO', 'H'],\n",
       " ['KO', 'C'],\n",
       " ['CH', 'N'],\n",
       " ['KP', 'C'],\n",
       " ['HS', 'P'],\n",
       " ['NP', 'O'],\n",
       " ['NS', 'V'],\n",
       " ['NB', 'H'],\n",
       " ['HN', 'O'],\n",
       " ['BP', 'C'],\n",
       " ['VF', 'S'],\n",
       " ['KN', 'P'],\n",
       " ['HC', 'C'],\n",
       " ['PS', 'K'],\n",
       " ['BB', 'O'],\n",
       " ['NO', 'N'],\n",
       " ['NH', 'F'],\n",
       " ['BN', 'F'],\n",
       " ['KV', 'V'],\n",
       " ['SS', 'K'],\n",
       " ['CO', 'H'],\n",
       " ['KB', 'P'],\n",
       " ['FH', 'C'],\n",
       " ['SP', 'C'],\n",
       " ['SO', 'V'],\n",
       " ['PV', 'S'],\n",
       " ['VO', 'O'],\n",
       " ['HV', 'N'],\n",
       " ['HB', 'V']]"
      ]
     },
     "execution_count": 296,
     "metadata": {},
     "output_type": "execute_result"
    }
   ],
   "source": [
    "polymer_template = [x.split(\" -> \") for x in lines[2:]]\n",
    "polymer_template"
   ]
  },
  {
   "cell_type": "code",
   "execution_count": 156,
   "id": "00a70bb9-9e3a-4837-9054-14b7ecdc1c2a",
   "metadata": {},
   "outputs": [],
   "source": [
    "import regex as re\n",
    "        \n",
    "def run_one_step(start_polymer, polymer_template):\n",
    "    temporary_polymer = start_polymer\n",
    "    new_char_dict = {}\n",
    "    for pair in polymer_template:\n",
    "        #print(\"checking pair\", pair)\n",
    "        check_pair = pair[0]\n",
    "        if check_pair in temporary_polymer:\n",
    "            element = pair[1]\n",
    "            matches_positions = [match.start() for match in re.finditer('(?='+check_pair+')', temporary_polymer)]\n",
    "            #print(\"found \", check_pair, \"add\", pair[1], \"in\", matches_positions)\n",
    "            for match in matches_positions:\n",
    "                new_char_dict[match+1] = element\n",
    "    \n",
    "    #print(new_char_dict)\n",
    "    i=0 #n. chars added\n",
    "    for pos in sorted(new_char_dict):\n",
    "        #print(\"Adding\", new_char_dict[pos],\"in\",pos,\"...\")\n",
    "        temporary_polymer = temporary_polymer[:pos+i]+new_char_dict[pos]+temporary_polymer[pos+i:]\n",
    "        i +=1\n",
    "        #print(\"temporary\", temporary_polymer)\n",
    "    final_polymer = temporary_polymer\n",
    "    return final_polymer"
   ]
  },
  {
   "cell_type": "code",
   "execution_count": 157,
   "id": "b3d29598-bd1d-427c-96c6-e54bdcd1b1a3",
   "metadata": {},
   "outputs": [],
   "source": [
    "def run_polymerization(start_polymer, polymer_template, n_steps):\n",
    "    print(start_polymer)\n",
    "    for n in range(0, n_steps):\n",
    "        #print(\"start step\", n+1, start_polymer)\n",
    "        start_polymer = run_one_step(start_polymer, polymer_template)\n",
    "        #print(\"after step\", n+1, start_polymer)\n",
    "    return start_polymer"
   ]
  },
  {
   "cell_type": "code",
   "execution_count": 177,
   "id": "cf4ef482-42fd-45d3-b5cb-7422114fe28c",
   "metadata": {
    "tags": []
   },
   "outputs": [
    {
     "name": "stdout",
     "output_type": "stream",
     "text": [
      "NNCB\n"
     ]
    },
    {
     "data": {
      "text/plain": [
       "'NBCCNBBBCBHCB'"
      ]
     },
     "execution_count": 177,
     "metadata": {},
     "output_type": "execute_result"
    }
   ],
   "source": [
    "final_polymer = run_polymerization(start_polymer, polymer_template, 2)\n",
    "final_polymer"
   ]
  },
  {
   "cell_type": "code",
   "execution_count": 178,
   "id": "1300056d-1e5f-497a-88bf-3db2fba272c8",
   "metadata": {},
   "outputs": [
    {
     "data": {
      "text/plain": [
       "Counter({'N': 2, 'B': 6, 'C': 4, 'H': 1})"
      ]
     },
     "execution_count": 178,
     "metadata": {},
     "output_type": "execute_result"
    }
   ],
   "source": [
    "Counter(final_polymer)"
   ]
  },
  {
   "cell_type": "code",
   "execution_count": 159,
   "id": "82dfac9a-2a52-4a95-a366-dcdffbcdd249",
   "metadata": {},
   "outputs": [
    {
     "name": "stdout",
     "output_type": "stream",
     "text": [
      "1588\n"
     ]
    }
   ],
   "source": [
    "from collections import Counter\n",
    "print(Counter(final_polymer).most_common(1)[0][1]-Counter(final_polymer).most_common()[-1][1])"
   ]
  },
  {
   "cell_type": "markdown",
   "id": "6859a222-df43-4e15-a4b6-22505c5a2b27",
   "metadata": {},
   "source": [
    "### Part 2"
   ]
  },
  {
   "cell_type": "code",
   "execution_count": 297,
   "id": "619a8450-e354-4a56-8327-1d5b6493b8e5",
   "metadata": {},
   "outputs": [
    {
     "data": {
      "text/plain": [
       "Counter({'O': 2,\n",
       "         'F': 2,\n",
       "         'N': 3,\n",
       "         'C': 3,\n",
       "         'B': 4,\n",
       "         'H': 2,\n",
       "         'K': 1,\n",
       "         'V': 2,\n",
       "         'P': 1})"
      ]
     },
     "execution_count": 297,
     "metadata": {},
     "output_type": "execute_result"
    }
   ],
   "source": [
    "Counter(start_polymer)"
   ]
  },
  {
   "cell_type": "code",
   "execution_count": 298,
   "id": "617442d0-131f-4d9f-8463-a7e1ec9b9090",
   "metadata": {},
   "outputs": [],
   "source": [
    "def initialize_counters(start_polymer):\n",
    "    initial_counter=Counter()\n",
    "    letters_counter=Counter(start_polymer)\n",
    "    for pos in range(0, len(start_polymer)-1):\n",
    "        initial_counter[start_polymer[pos:pos+2]]+=1\n",
    "    return initial_counter, letters_counter\n",
    "\n",
    "def run_one_step_fast(initial_counter,letters_counter, polymer_template):\n",
    "    #print(\"Start\", initial_counter,letters_counter)\n",
    "    final_counter = initial_counter.copy()\n",
    "    \n",
    "    for pair in polymer_template:\n",
    "        check_pair = pair[0]\n",
    "        element = pair[1]\n",
    "        #print(\"checking pair\", check_pair)\n",
    "        if initial_counter[check_pair]>=1:\n",
    "            #print(\"reference counter\", initial_counter)\n",
    "            #print(\"pair found\", check_pair, \"new letter\", element)\n",
    "            final_counter[check_pair[0]+element]+=1*initial_counter[check_pair]\n",
    "            final_counter[element+check_pair[1]]+=1*initial_counter[check_pair]\n",
    "            final_counter[check_pair]-=1*initial_counter[check_pair]\n",
    "            letters_counter[element]+=1*initial_counter[check_pair]\n",
    "            \n",
    "            #print(\"final\", final_counter, letters_counter)  \n",
    "    return final_counter,letters_counter\n",
    "\n",
    "def run_polymerization_fast(start_counter,letters_counter, polymer_template, n_steps):\n",
    "    for n in range(0, n_steps):\n",
    "        start_counter,letters_counter = run_one_step_fast(start_counter,letters_counter, polymer_template)\n",
    "        final_counter = start_counter\n",
    "    return final_counter,letters_counter"
   ]
  },
  {
   "cell_type": "code",
   "execution_count": 302,
   "id": "ee2ebde7-f506-4af9-9ea3-f50acd4f6c20",
   "metadata": {},
   "outputs": [],
   "source": [
    "initial_counter = initialize_counters(start_polymer)[0]\n",
    "letters_counter = initialize_counters(start_polymer)[1]\n",
    "\n",
    "final_counter, letters_counter = run_polymerization_fast(initial_counter,letters_counter, polymer_template, 40)"
   ]
  },
  {
   "cell_type": "code",
   "execution_count": 303,
   "id": "7cb077a8-4406-464b-a7ca-d0654fe4aed1",
   "metadata": {},
   "outputs": [
    {
     "data": {
      "text/plain": [
       "Counter({'O': 3130799559067,\n",
       "         'F': 1367340055032,\n",
       "         'N': 1079825178720,\n",
       "         'C': 2243098080010,\n",
       "         'B': 1852177036253,\n",
       "         'H': 2025855409581,\n",
       "         'K': 662215304710,\n",
       "         'V': 2272753224170,\n",
       "         'P': 4190532384255,\n",
       "         'S': 2066124695947})"
      ]
     },
     "execution_count": 303,
     "metadata": {},
     "output_type": "execute_result"
    }
   ],
   "source": [
    "letters_counter"
   ]
  },
  {
   "cell_type": "code",
   "execution_count": 304,
   "id": "5ad3b4f5-3676-4069-a402-036aa014a4d8",
   "metadata": {},
   "outputs": [
    {
     "name": "stdout",
     "output_type": "stream",
     "text": [
      "3528317079545\n"
     ]
    }
   ],
   "source": [
    "from collections import Counter\n",
    "print(letters_counter.most_common(1)[0][1]-letters_counter.most_common()[-1][1])"
   ]
  }
 ],
 "metadata": {
  "kernelspec": {
   "display_name": "Python 3 (ipykernel)",
   "language": "python",
   "name": "python3"
  },
  "language_info": {
   "codemirror_mode": {
    "name": "ipython",
    "version": 3
   },
   "file_extension": ".py",
   "mimetype": "text/x-python",
   "name": "python",
   "nbconvert_exporter": "python",
   "pygments_lexer": "ipython3",
   "version": "3.8.11"
  }
 },
 "nbformat": 4,
 "nbformat_minor": 5
}
