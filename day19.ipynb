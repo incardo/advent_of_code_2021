{
 "cells": [
  {
   "cell_type": "markdown",
   "id": "d131862d-cb8f-4949-9437-290e8278ff7c",
   "metadata": {},
   "source": [
    "# Day 19"
   ]
  },
  {
   "cell_type": "code",
   "execution_count": 10,
   "id": "587b8f8e-9a31-4d76-84a2-94b6e3b43d7b",
   "metadata": {
    "tags": []
   },
   "outputs": [],
   "source": [
    "import pandas as pd\n",
    "import numpy as np\n",
    "import sys\n",
    "#np.set_printoptions(threshold=sys.maxsize)"
   ]
  },
  {
   "cell_type": "code",
   "execution_count": 11,
   "id": "df04d73c-a68e-4433-9fc5-b1dd4a54e7dd",
   "metadata": {},
   "outputs": [],
   "source": [
    "with open('input_files/day19_input.txt') as f:\n",
    "    lines = f.read().splitlines()"
   ]
  },
  {
   "cell_type": "code",
   "execution_count": 27,
   "id": "6192aa98-b196-4473-b337-f485300e6ad8",
   "metadata": {},
   "outputs": [
    {
     "name": "stdout",
     "output_type": "stream",
     "text": [
      "454\n",
      "10813\n"
     ]
    }
   ],
   "source": [
    "from collections import defaultdict\n",
    "\n",
    "def turn_current_and_append_to_grid(current):\n",
    "    orientations = [possibles(*x) for x in current]\n",
    "    for e in range(len(orientations[0])):\n",
    "        current_orientation = [x[e] for x in orientations]\n",
    "        current_distances, current_xyz_shifts = get_relative_beacon_distance(current_orientation, defaultdict(list), defaultdict(list))\n",
    "        matches = {}\n",
    "        for k,v in current_xyz_shifts.items():\n",
    "            for ok, ov in grid_xyz_shifts.items():\n",
    "                distance_matches = [x for x in v if x in ov]\n",
    "                if len(distance_matches) >= 11:\n",
    "                    matches[k] = ok\n",
    "        if len(matches) >= 12:\n",
    "            xyz_diff = next((tuple(v[i] - k[i] for i in range(3)) for k,v in matches.items()))\n",
    "            current_grid = set()\n",
    "            for k in current_orientation:\n",
    "                new_coord = tuple(k[i] + xyz_diff[i] for i in range(3))\n",
    "                grid.add(new_coord)\n",
    "                current_grid.add(new_coord)\n",
    "            point = next((k for k,v in matches.items()))\n",
    "            scanners.append(tuple(matches[point][i] - point[i] for i in range(3)))\n",
    "            return True, current_grid\n",
    "    return False, None\n",
    "                    \n",
    "def get_relative_beacon_distance(beacons, relative_distances, relative_xyz_shift):\n",
    "    for coords in beacons:\n",
    "        for other_coords in beacons:\n",
    "            if coords != other_coords:\n",
    "                relative_distances[coords].append(sum([(coords[e] - other_coords[e]) ** 2 for e in range(3)]))\n",
    "                relative_xyz_shift[coords].append(tuple(other_coords[x] - coords[x] for x in range(3)))\n",
    "    return relative_distances, relative_xyz_shift\n",
    "\n",
    "with open(\"input_files/day19_input.txt\", 'r') as file:\n",
    "    data = {e: [tuple(int(z) for z in y.split(',')) for y in x.splitlines()[1:]] for e,x in enumerate(file.read().split('\\n\\n'))}\n",
    "    possibles = lambda x,y,z: [(x,y,z),(x,z,-y),(x,-y,-z),(x,-z,y),(-x,y,-z),(-x,z,y),(-x,-y,z),(-x,-z,-y),\n",
    "                               (y,x,-z),(y,z,x),(y,-x,z),(y,-z,-x),(-y,x,z),(-y,z,-x),(-y,-x,-z),(-y,-z,x),\n",
    "                               (z,x,y),(z,y,-x),(z,-x,-y),(z,-y,x),(-z,x,-y),(-z,y,x),(-z,-x,y),(-z,-y,-x)]\n",
    "    mapped = [0]\n",
    "    scanners = [(0,0,0)]\n",
    "    grid = set(data.pop(0))\n",
    "    distance_and_xyz = [get_relative_beacon_distance(grid, defaultdict(list), defaultdict(list))]\n",
    "    while data:\n",
    "        for key, current in data.items():\n",
    "            current_distances, current_xyz_shifts = get_relative_beacon_distance(current, defaultdict(list), defaultdict(list))\n",
    "            for grid_distances, grid_xyz_shifts in distance_and_xyz:\n",
    "                if any(any(len([dst for dst in cur_dst if dst in grd_dst]) >= 11 for grd_dst in grid_distances.values()) for cur_dst in current_distances.values()):\n",
    "                    success, temp_grid = turn_current_and_append_to_grid(current)\n",
    "                    if success:\n",
    "                        mapped.append(key)\n",
    "                        data.pop(key)\n",
    "                        grid_distances, grid_xyz_shifts = get_relative_beacon_distance(temp_grid, defaultdict(list), defaultdict(list))\n",
    "                        distance_and_xyz.append((grid_distances, grid_xyz_shifts))\n",
    "                        break\n",
    "            else:\n",
    "                continue\n",
    "            break\n",
    "    print(len(grid))\n",
    "    print(max(sum([abs(x[i] - y[i]) for i in range(3)]) for x in scanners for y in scanners))"
   ]
  }
 ],
 "metadata": {
  "kernelspec": {
   "display_name": "Python 3 (ipykernel)",
   "language": "python",
   "name": "python3"
  },
  "language_info": {
   "codemirror_mode": {
    "name": "ipython",
    "version": 3
   },
   "file_extension": ".py",
   "mimetype": "text/x-python",
   "name": "python",
   "nbconvert_exporter": "python",
   "pygments_lexer": "ipython3",
   "version": "3.8.11"
  }
 },
 "nbformat": 4,
 "nbformat_minor": 5
}
