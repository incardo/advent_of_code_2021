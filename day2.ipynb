{
 "cells": [
  {
   "cell_type": "code",
   "execution_count": null,
   "id": "0631ecb3-890e-4c7f-973c-ef19856430a7",
   "metadata": {},
   "outputs": [],
   "source": []
  },
  {
   "cell_type": "code",
   "execution_count": 1,
   "id": "0340f0c8-b4fd-448d-9b7b-daa0eef73fe6",
   "metadata": {},
   "outputs": [],
   "source": [
    "import pandas as pd\n",
    "import numpy as np"
   ]
  },
  {
   "cell_type": "code",
   "execution_count": 2,
   "id": "9172bca4-7e9d-45af-80b8-975d90153c8f",
   "metadata": {},
   "outputs": [
    {
     "data": {
      "text/plain": [
       "'C:\\\\Users\\\\incar\\\\Documents\\\\GitHub\\\\advent_of_code_2021'"
      ]
     },
     "execution_count": 2,
     "metadata": {},
     "output_type": "execute_result"
    }
   ],
   "source": [
    "pwd"
   ]
  },
  {
   "cell_type": "code",
   "execution_count": 3,
   "id": "2e6aad3a-b47a-4ddd-ae51-0a09b13357df",
   "metadata": {},
   "outputs": [
    {
     "name": "stdout",
     "output_type": "stream",
     "text": [
      "             0\n",
      "0    forward 6\n",
      "1       down 2\n",
      "2    forward 2\n",
      "3       down 8\n",
      "4    forward 3\n",
      "..         ...\n",
      "995  forward 3\n",
      "996     down 3\n",
      "997       up 7\n",
      "998     down 9\n",
      "999  forward 8\n",
      "\n",
      "[1000 rows x 1 columns]\n"
     ]
    }
   ],
   "source": [
    "data = pd.read_csv('input_files/day2_input.txt', header = None)\n",
    "print(data)"
   ]
  },
  {
   "cell_type": "code",
   "execution_count": 10,
   "id": "84880578-74cc-48ae-8243-acbe22cce76a",
   "metadata": {},
   "outputs": [
    {
     "data": {
      "text/plain": [
       "'6'"
      ]
     },
     "execution_count": 10,
     "metadata": {},
     "output_type": "execute_result"
    }
   ],
   "source": [
    "data.iloc[0,0].split()[1]"
   ]
  },
  {
   "cell_type": "code",
   "execution_count": 20,
   "id": "3a9cc713-5531-45d9-ae6f-5385f135ed10",
   "metadata": {},
   "outputs": [
    {
     "data": {
      "text/plain": [
       "0"
      ]
     },
     "execution_count": 20,
     "metadata": {},
     "output_type": "execute_result"
    }
   ],
   "source": [
    "a = 3\n",
    "a-=3\n",
    "a"
   ]
  },
  {
   "cell_type": "code",
   "execution_count": 30,
   "id": "782856aa-cdd4-488a-8e99-453b59c71bd4",
   "metadata": {},
   "outputs": [
    {
     "name": "stdout",
     "output_type": "stream",
     "text": [
      "2322630\n"
     ]
    }
   ],
   "source": [
    "depth = 0\n",
    "horizontal = 0\n",
    "\n",
    "#print(\"start position\", \"horizontal\", horizontal, \"depth\", depth) \n",
    "\n",
    "for i in range(0, len(data)):\n",
    "    direction = data.iloc[i,0].split()[0]\n",
    "    intensity = int(data.iloc[i,0].split()[1])\n",
    "    #print(\"instructions\", direction, intensity)\n",
    "    if direction == \"forward\":\n",
    "        horizontal += intensity\n",
    "    elif direction == \"down\":\n",
    "        depth += intensity\n",
    "    elif direction == \"up\":\n",
    "        depth -= intensity\n",
    "    #print(\"new position\", \"horizontal\", horizontal, \"depth\", depth) \n",
    "multiplication = depth * horizontal\n",
    "\n",
    "print (multiplication)\n",
    "    "
   ]
  },
  {
   "cell_type": "code",
   "execution_count": 31,
   "id": "ad8acf9a-cd0c-4bd9-98ff-a276a29530bb",
   "metadata": {},
   "outputs": [
    {
     "name": "stdout",
     "output_type": "stream",
     "text": [
      "2105273490\n"
     ]
    }
   ],
   "source": [
    "depth = 0\n",
    "horizontal = 0\n",
    "aim = 0\n",
    "\n",
    "#print(\"start position\", \"horizontal\", horizontal, \"depth\", depth, \"aim\", aim) \n",
    "\n",
    "for i in range(0, len(data)):\n",
    "    direction = data.iloc[i,0].split()[0]\n",
    "    intensity = int(data.iloc[i,0].split()[1])\n",
    "    #print(\"instructions\", direction, intensity)\n",
    "    if direction == \"forward\":\n",
    "        horizontal += intensity\n",
    "        depth += intensity*aim\n",
    "    elif direction == \"down\":\n",
    "        aim += intensity\n",
    "    elif direction == \"up\":\n",
    "        aim -= intensity\n",
    "    #print(\"new position\", \"horizontal\", horizontal, \"depth\", depth, \"aim\", aim) \n",
    "multiplication = depth * horizontal\n",
    "\n",
    "print (multiplication)\n",
    "    "
   ]
  },
  {
   "cell_type": "code",
   "execution_count": null,
   "id": "2e97ade5-0926-47ff-9026-20a7119f69e6",
   "metadata": {},
   "outputs": [],
   "source": []
  }
 ],
 "metadata": {
  "kernelspec": {
   "display_name": "Python 3 (ipykernel)",
   "language": "python",
   "name": "python3"
  },
  "language_info": {
   "codemirror_mode": {
    "name": "ipython",
    "version": 3
   },
   "file_extension": ".py",
   "mimetype": "text/x-python",
   "name": "python",
   "nbconvert_exporter": "python",
   "pygments_lexer": "ipython3",
   "version": "3.8.11"
  }
 },
 "nbformat": 4,
 "nbformat_minor": 5
}
