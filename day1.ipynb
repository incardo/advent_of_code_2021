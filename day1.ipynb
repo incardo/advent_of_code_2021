{
 "cells": [
  {
   "cell_type": "markdown",
   "id": "33a45e34-2d8e-48f1-83b2-3c576baddc35",
   "metadata": {},
   "source": [
    "# Day 1: Sonar Sweep"
   ]
  },
  {
   "cell_type": "markdown",
   "id": "893cbee5-90a6-4662-b514-7d0b38b710a4",
   "metadata": {},
   "source": [
    "Link to page: https://adventofcode.com/2021/day/1"
   ]
  },
  {
   "cell_type": "markdown",
   "id": "7c100609-05ee-4758-b1fe-beaf7e9c8b90",
   "metadata": {},
   "source": [
    "You're minding your own business on a ship at sea when the overboard alarm goes off! You rush to see if you can help. Apparently, one of the Elves tripped and accidentally sent the sleigh keys flying into the ocean!\n",
    "\n",
    "Before you know it, you're inside a submarine the Elves keep ready for situations like this. It's covered in Christmas lights (because of course it is), and it even has an experimental antenna that should be able to track the keys if you can boost its signal strength high enough; there's a little meter that indicates the antenna's signal strength by displaying 0-50 stars.\n",
    "\n",
    "Your instincts tell you that in order to save Christmas, you'll need to get all fifty stars by December 25th.\n",
    "\n",
    "Collect stars by solving puzzles. Two puzzles will be made available on each day in the Advent calendar; the second puzzle is unlocked when you complete the first. Each puzzle grants one star. Good luck!\n",
    "\n",
    "As the submarine drops below the surface of the ocean, it automatically performs a sonar sweep of the nearby sea floor. On a small screen, the sonar sweep report (your puzzle input) appears: each line is a measurement of the sea floor depth as the sweep looks further and further away from the submarine.\n",
    "\n",
    "For example, suppose you had the following report:\n",
    "199\n",
    "200\n",
    "208\n",
    "210\n",
    "200\n",
    "207\n",
    "240\n",
    "269\n",
    "260\n",
    "\n",
    "This report indicates that, scanning outward from the submarine, the sonar sweep found depths of 199, 200, 208, 210, and so on.\n"
   ]
  },
  {
   "cell_type": "code",
   "execution_count": 26,
   "id": "ac441f48-1b7e-4667-826d-5a3304c571b6",
   "metadata": {},
   "outputs": [],
   "source": [
    "import pandas as pd\n",
    "import numpy as np"
   ]
  },
  {
   "cell_type": "code",
   "execution_count": 34,
   "id": "2b293782-d22a-480a-8b28-7e3a2715977f",
   "metadata": {},
   "outputs": [
    {
     "data": {
      "text/plain": [
       "'C:\\\\Users\\\\incar\\\\Documents\\\\GitHub\\\\advent_of_code_2021'"
      ]
     },
     "execution_count": 34,
     "metadata": {},
     "output_type": "execute_result"
    }
   ],
   "source": [
    "pwd"
   ]
  },
  {
   "cell_type": "code",
   "execution_count": 28,
   "id": "12bb41a2-6128-4c99-bee1-c279eb96f274",
   "metadata": {},
   "outputs": [
    {
     "name": "stdout",
     "output_type": "stream",
     "text": [
      "         0\n",
      "0      131\n",
      "1      140\n",
      "2      136\n",
      "3      135\n",
      "4      155\n",
      "...    ...\n",
      "1995  5770\n",
      "1996  5757\n",
      "1997  5748\n",
      "1998  5766\n",
      "1999  5770\n",
      "\n",
      "[2000 rows x 1 columns]\n"
     ]
    }
   ],
   "source": [
    "data = pd.read_csv('input_files/day1_input.txt', header = None)\n",
    "print(data)"
   ]
  },
  {
   "cell_type": "markdown",
   "id": "779f300c-f638-4976-a1f5-e7fda94488d1",
   "metadata": {},
   "source": [
    "### Part 1"
   ]
  },
  {
   "cell_type": "markdown",
   "id": "c038ea10-5158-4a9f-9ef2-c1af45d6992c",
   "metadata": {},
   "source": [
    "The first order of business is to figure out how quickly the depth increases, just so you know what you're dealing with - you never know if the keys will get carried into deeper water by an ocean current or a fish or something.\n",
    "\n",
    "To do this, count the number of times a depth measurement increases from the previous measurement. (There is no measurement before the first measurement.) In the example above, the changes are as follows:\n",
    "<code>\n",
    "199 (N/A - no previous measurement)\n",
    "200 (<em>increased</em>)\n",
    "208 (<em>increased</em>)\n",
    "210 (<em>increased</em>)\n",
    "200 (decreased)\n",
    "207 (<em>increased</em>)\n",
    "240 (<em>increased</em>)\n",
    "269 (<em>increased</em>)\n",
    "260 (decreased)\n",
    "263 (<em>increased</em>)\n",
    "</code>\n",
    "In this example, there are 7 measurements that are larger than the previous measurement.\n",
    "\n",
    "How many measurements are larger than the previous measurement?"
   ]
  },
  {
   "cell_type": "code",
   "execution_count": 18,
   "id": "d260430d-f1d4-443a-a459-72da67cd1981",
   "metadata": {},
   "outputs": [
    {
     "name": "stdout",
     "output_type": "stream",
     "text": [
      "1466\n"
     ]
    }
   ],
   "source": [
    "def find_increases(data):\n",
    "    number_increases = 0\n",
    "    for i in range(1, len(data)):\n",
    "        if data.iloc[i,0]>data.iloc[i-1,0]:\n",
    "            number_increases+=1\n",
    "\n",
    "    print(number_increases)       \n",
    "\n",
    "find_increases(data)"
   ]
  },
  {
   "cell_type": "markdown",
   "id": "6aa924cd-de02-4a56-97d8-cc7c4ddafe55",
   "metadata": {},
   "source": [
    "### Part 2"
   ]
  },
  {
   "cell_type": "markdown",
   "id": "d86cefee-817b-4c57-961f-71a7cfe3289a",
   "metadata": {},
   "source": [
    "Considering every single measurement isn't as useful as you expected: there's just too much noise in the data.\n",
    "Instead, consider sums of a three-measurement sliding window. Again considering the above example:\n",
    "<code>\n",
    "199  A      \n",
    "200  A B    \n",
    "208  A B C  \n",
    "210    B C D\n",
    "200  E   C D\n",
    "207  E F   D\n",
    "240  E F G  \n",
    "269    F G H\n",
    "260      G H\n",
    "263        H\n",
    "</code>\n",
    "Start by comparing the first and second three-measurement windows. The measurements in the first window are marked A (199, 200, 208); their sum is 199 + 200 + 208 = 607. The second window is marked B (200, 208, 210); its sum is 618. The sum of measurements in the second window is larger than the sum of the first, so this first comparison increased.\n",
    "\n",
    "Your goal now is to count the number of times the sum of measurements in this sliding window increases from the previous sum. So, compare A with B, then compare B with C, then C with D, and so on. Stop when there aren't enough measurements left to create a new three-measurement sum.\n",
    "\n",
    "In the above example, the sum of each three-measurement window is as follows:\n",
    "<code>\n",
    "A: 607 (N/A - no previous sum)\n",
    "B: 618 (increased)\n",
    "C: 618 (no change)\n",
    "D: 617 (decreased)\n",
    "E: 647 (increased)\n",
    "F: 716 (increased)\n",
    "G: 769 (increased)\n",
    "H: 792 (increased)\n",
    "</code>\n",
    "\n",
    "In this example, there are 5 sums that are larger than the previous sum.\n",
    "\n",
    "Consider sums of a three-measurement sliding window. How many sums are larger than the previous sum?"
   ]
  },
  {
   "cell_type": "code",
   "execution_count": 30,
   "id": "81b9a1b7-711a-4f5c-85a9-07fc0d05959f",
   "metadata": {},
   "outputs": [],
   "source": [
    "rolling_data = data.rolling(3).sum()"
   ]
  },
  {
   "cell_type": "code",
   "execution_count": 31,
   "id": "f83c850a-e15f-45bb-b51e-a964aad79848",
   "metadata": {},
   "outputs": [
    {
     "name": "stdout",
     "output_type": "stream",
     "text": [
      "1491\n"
     ]
    }
   ],
   "source": [
    "find_increases(rolling_data)"
   ]
  }
 ],
 "metadata": {
  "kernelspec": {
   "display_name": "Python 3 (ipykernel)",
   "language": "python",
   "name": "python3"
  },
  "language_info": {
   "codemirror_mode": {
    "name": "ipython",
    "version": 3
   },
   "file_extension": ".py",
   "mimetype": "text/x-python",
   "name": "python",
   "nbconvert_exporter": "python",
   "pygments_lexer": "ipython3",
   "version": "3.8.11"
  }
 },
 "nbformat": 4,
 "nbformat_minor": 5
}
