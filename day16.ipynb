{
 "cells": [
  {
   "cell_type": "markdown",
   "id": "0fcab044-7668-4ec1-8e10-583f361884c8",
   "metadata": {
    "tags": []
   },
   "source": [
    "# Day 16"
   ]
  },
  {
   "cell_type": "code",
   "execution_count": 1,
   "id": "6a750b4d-bb97-49e7-92fa-c09f48171e62",
   "metadata": {},
   "outputs": [],
   "source": [
    "import pandas as pd\n",
    "import numpy as np\n",
    "import sys\n",
    "#np.set_printoptions(threshold=sys.maxsize)"
   ]
  },
  {
   "cell_type": "code",
   "execution_count": 2,
   "id": "ae22c24b-4cd3-426d-95d5-c40086bc3d4d",
   "metadata": {},
   "outputs": [],
   "source": [
    "with open('input_files/day16_input.txt') as f:\n",
    "    lines = f.read()"
   ]
  },
  {
   "cell_type": "code",
   "execution_count": 3,
   "id": "ccd0fe12-a0d5-47ff-8b30-9646ca91b30d",
   "metadata": {
    "tags": []
   },
   "outputs": [
    {
     "data": {
      "text/plain": [
       "'E20D79005573F71DA0054E48527EF97D3004653BB1FC006867A8B1371AC49C801039171941340066E6B99A6A58B8110088BA008CE6F7893D4E6F7893DCDCFDB9D6CBC4026FE8026200DC7D84B1C00010A89507E3CCEE37B592014D3C01491B6697A83CB4F59E5E7FFA5CC66D4BC6F05D3004E6BB742B004E7E6B3375A46CF91D8C027911797589E17920F4009BE72DA8D2E4523DCEE86A8018C4AD3C7F2D2D02C5B9FF53366E3004658DB0012A963891D168801D08480485B005C0010A883116308002171AA24C679E0394EB898023331E60AB401294D98CA6CD8C01D9B349E0A99363003E655D40289CBDBB2F55D25E53ECAF14D9ABBB4CC726F038C011B0044401987D0BE0C00021B04E2546499DE824C015B004A7755B570013F2DD8627C65C02186F2996E9CCD04E5718C5CBCC016B004A4F61B27B0D9B8633F9344D57B0C1D3805537ADFA21F231C6EC9F3D3089FF7CD25E5941200C96801F191C77091238EE13A704A7CCC802B3B00567F192296259ABD9C400282915B9F6E98879823046C0010C626C966A19351EE27DE86C8E6968F2BE3D2008EE540FC01196989CD9410055725480D60025737BA1547D700727B9A89B444971830070401F8D70BA3B8803F16A3FC2D00043621C3B8A733C8BD880212BCDEE9D34929164D5CB08032594E5E1D25C0055E5B771E966783240220CD19E802E200F4588450BC401A8FB14E0A1805B36F3243B2833247536B70BDC00A60348880C7730039400B402A91009F650028C00E2020918077610021C00C1002D80512601188803B4000C148025010036727EE5AD6B445CC011E00B825E14F4BBF5F97853D2EFD6256F8FFE9F3B001420C01A88915E259002191EE2F4392004323E44A8B4C0069CEF34D304C001AB94379D149BD904507004A6D466B618402477802E200D47383719C0010F8A507A294CC9C90024A967C9995EE2933BA840'"
      ]
     },
     "execution_count": 3,
     "metadata": {},
     "output_type": "execute_result"
    }
   ],
   "source": [
    "lines"
   ]
  },
  {
   "cell_type": "code",
   "execution_count": 4,
   "id": "3e0bf9c6-872b-4b66-bb51-c91a6c17f6f7",
   "metadata": {},
   "outputs": [
    {
     "name": "stdout",
     "output_type": "stream",
     "text": [
      "951\n",
      "902198718880\n"
     ]
    }
   ],
   "source": [
    "import unittest, functools\n",
    "\n",
    "# Read puzzle input and return as usable data structure\n",
    "def parse_input(file):\n",
    "    hex_vals = []\n",
    "    with open(file, 'r') as input:\n",
    "        for line in input:\n",
    "            hex_vals.extend([char for char in line.rstrip()])\n",
    "    return hex_vals\n",
    "\n",
    "# Find value of a literal value subpacket\n",
    "def get_lit_val(packet):\n",
    "    lit_val = \"\"\n",
    "    while packet[0] == \"1\":\n",
    "        lit_val += \"\".join(packet[1:5])\n",
    "        packet = packet[5:]\n",
    "    lit_val += \"\".join(packet[1:5])\n",
    "    packet = packet[5:]\n",
    "    return int(lit_val, 2), packet\n",
    "\n",
    "# Recursive function to decode packets and subpackets\n",
    "def pack_decode(packet):\n",
    "    version, typeID, packet = int(packet[:3], 2), int(packet[3:6], 2), packet[6:]\n",
    "    value = 0\n",
    "\n",
    "    if typeID == 4:\n",
    "        value, packet = get_lit_val(packet)\n",
    "    else:\n",
    "        lengthID, packet = int(packet[0], 2), packet[1:]\n",
    "        literals = []\n",
    "        if lengthID == 0:\n",
    "            # If length type is 0, keep converting subpackets for length given\n",
    "            length, packet = int(packet[:15], 2), packet[15:]\n",
    "            sub_packet, packet = packet[:length], packet[length:]\n",
    "            while sub_packet:\n",
    "                sub_version, sub_value, sub_packet = pack_decode(sub_packet)\n",
    "                version += sub_version\n",
    "                literals.append(sub_value)\n",
    "        else:\n",
    "            # If length type is 1, convert x number of subpackets\n",
    "            pack_num, packet = int(packet[:11], 2), packet[11:]\n",
    "            for _ in range(pack_num):\n",
    "                sub_version, sub_value, packet = pack_decode(packet)\n",
    "                version += sub_version\n",
    "                literals.append(sub_value)\n",
    "        if typeID == 0:\n",
    "            value = sum(literals)\n",
    "        elif typeID == 1:\n",
    "            value = functools.reduce(lambda x, y: x * y, literals)\n",
    "        elif typeID == 2:\n",
    "            value = min(literals)\n",
    "        elif typeID == 3:\n",
    "            value = max(literals)\n",
    "        elif typeID == 5:\n",
    "            value = 1 if literals[0] > literals[1] else 0\n",
    "        elif typeID == 6:\n",
    "            value = 1 if literals[0] < literals[1] else 0\n",
    "        elif typeID == 7:\n",
    "            value = 1 if literals[0] == literals[1] else 0\n",
    "\n",
    "    return version, value, packet\n",
    "\n",
    "def packet_decoder(file, result):\n",
    "    hex_vals = parse_input(file)\n",
    "\n",
    "    # Convert hex value to decimal, then to binary\n",
    "    packet = f'{int(\"\".join(hex_vals), 16):0>{4 * len(hex_vals)}b}'\n",
    "    total_ver, total_val, packet = pack_decode(packet)\n",
    "\n",
    "    # result = 0 for part 1\n",
    "    # result = 1 for part 2\n",
    "    if result == 0:\n",
    "        return total_ver\n",
    "    elif result == 1:\n",
    "        return total_val\n",
    "\n",
    "if __name__ == \"__main__\":\n",
    "    #unittest.main(verbosity=2)\n",
    "    \n",
    "    # Part 1 solution\n",
    "    #print(packet_decoder('Advent of Code/test.txt', 0))\n",
    "    print(packet_decoder('input_files/day16_input.txt', 0))\n",
    "    \n",
    "    # Part 2 solution\n",
    "    #print(packet_decoder('Advent of Code/test.txt', 1))\n",
    "    print(packet_decoder('input_files/day16_input.txt', 1))"
   ]
  },
  {
   "cell_type": "code",
   "execution_count": 5,
   "id": "08438e88-a4b4-4c7a-8ae6-4f1c77367d54",
   "metadata": {
    "jupyter": {
     "source_hidden": true
    },
    "tags": []
   },
   "outputs": [],
   "source": [
    "### Older versions / draft\n",
    "def convert_hexa_to_bin(hexa_number):\n",
    "    map_hexa = {\"0\":\"0000\",\"1\":\"0001\",\"2\":\"0010\",\"3\":\"0011\",\"4\":\"0100\",\"5\":\"0101\",\"6\":\"0110\",\n",
    "               \"7\":\"0111\",\"8\":\"1000\",\"9\":\"1001\",\"A\":\"1010\",\"B\":\"1011\",\"C\":\"1100\",\"D\":\"1101\",\"E\":\"1110\",\"F\":\"1111\"}\n",
    "    bin_number=\"\"\n",
    "    for char in hexa_number:\n",
    "        bin_number+=map_hexa[char]\n",
    "    return bin_number\n",
    "\n",
    "def get_packet_version_and_id(bin_number):\n",
    "    packet_version = int(bin_number[0:3],2)\n",
    "    packet_id = int(bin_number[3:6],2)\n",
    "    return packet_version, packet_id\n",
    "\n",
    "def packet_is_literal(bin_number):\n",
    "    packet_version, packet_id = get_packet_version_and_id(bin_number)\n",
    "    if packet_id == 4:\n",
    "        return True\n",
    "    else:\n",
    "        return False\n",
    "\n",
    "def unpack_literal_value(bin_number):\n",
    "    packet_version, packet_id = get_packet_version_and_id(bin_number)\n",
    "    five_bits_groups = bin_number[6:]\n",
    "    first_number = five_bits_groups[0]\n",
    "    final_number = \"\"\n",
    "    is_end = False\n",
    "    while is_end == False:\n",
    "        first_number = five_bits_groups[0]\n",
    "        final_number+=five_bits_groups[1:5]\n",
    "        five_bits_groups = five_bits_groups[5:]\n",
    "        is_end = True if first_number==\"0\" else False\n",
    "    remaining_string = bin_number.replace(final_number,'')\n",
    "    return packet_version, int(final_number,2),final_number, remaining_string\n",
    "\n",
    "def unpack_operator_packet(bin_number):\n",
    "    packet_version, packet_id = get_packet_version_and_id(bin_number)\n",
    "    length_type_id = int(bin_number[6], 2)\n",
    "    bit_length = 15 if length_type_id == 0 else 11\n",
    "    print(\"operator version:\", packet_version, \", bit lenght\", bit_length, \", bin_number\", bin_number)\n",
    "    #Mode 1\n",
    "    \n",
    "    if bit_length == 15:\n",
    "        subpackets_length = int(bin_number[7:7+bit_length], 2)\n",
    "        scanned_nrs = int(0)\n",
    "        start_subpackets = 7+bit_length\n",
    "        remaining_subpackets = bin_number[start_subpackets:start_subpackets+subpackets_length]\n",
    "        print(\"subpacket length\", subpackets_length)\n",
    "        #print(\"start loop scanned nrs\", scanned_nrs)\n",
    "\n",
    "        if packet_is_literal(remaining_subpackets):\n",
    "            while scanned_nrs < subpackets_length:\n",
    "                print(\"remaining literal\", remaining_subpackets)\n",
    "                packet_version, packet_id = get_packet_version_and_id(remaining_subpackets) #get first packet version and id\n",
    "\n",
    "                print(\"literal found inside 15 bits operator, version:\", unpack_literal_value(remaining_subpackets)[0], \"number\", unpack_literal_value(remaining_subpackets)[1])\n",
    "                len_full_literal = int(len(unpack_literal_value(remaining_subpackets)[2])+6+len(unpack_literal_value(remaining_subpackets)[2])/4)\n",
    "                scanned_nrs +=  len_full_literal\n",
    "                print(\"scanned nrs\", scanned_nrs)\n",
    "                remaining_subpackets = bin_number[start_subpackets+scanned_nrs:start_subpackets+subpackets_length]\n",
    "                    \n",
    "            #After scanning all the literals returns rest of string\n",
    "            remaining_subpackets = bin_number[start_subpackets+subpackets_length:]\n",
    "            #return remaining_subpackets\n",
    "        else:\n",
    "            print(\"unpack_operator_packet inside 15 bits, version\",get_packet_version_and_id(remaining_subpackets)[0])\n",
    "            unpack_operator_packet(remaining_subpackets)\n",
    "            scanned_nrs +=6+1+15\n",
    "            print(\"unpack\", scanned_nrs)\n",
    "            #break\n",
    "        #return remaining_subpackets = bin_number[start_subpackets+subpackets_length:]\n",
    "    \n",
    "    #Mode 2\n",
    "    elif bit_length == 11:\n",
    "        subpackets_number = int(bin_number[7:7+bit_length], 2)\n",
    "        subpackets_found = 0\n",
    "        start_subpackets = 7+bit_length\n",
    "        remaining_subpackets = bin_number[start_subpackets:]\n",
    "        print(\"number of subpackets\",subpackets_number)\n",
    "        while subpackets_found < subpackets_number:\n",
    "            print(\"remaining\", remaining_subpackets)\n",
    "            packet_version, packet_id = get_packet_version_and_id(remaining_subpackets) #get first packet version and id\n",
    "            \n",
    "            if packet_is_literal(remaining_subpackets):\n",
    "                print(\"literal found inside 11 bits operator, version:\", unpack_literal_value(remaining_subpackets)[0], \"number\", unpack_literal_value(remaining_subpackets)[1])\n",
    "                len_full_literal = int(len(unpack_literal_value(remaining_subpackets)[2])+6+len(unpack_literal_value(remaining_subpackets)[2])/4)\n",
    "                subpackets_found +=  1\n",
    "                print(\"subpackets_found\", subpackets_found)\n",
    "                remaining_subpackets = bin_number[start_subpackets+len_full_literal:]\n",
    "            else:\n",
    "                print(\"unpacking new operator inside packet 11 bits, version\",get_packet_version_and_id(remaining_subpackets)[0])\n",
    "                subpackets_found +=  1\n",
    "                unpack_operator_packet(remaining_subpackets)\n",
    "                remaining_subpackets = bin_number[start_subpackets+len_full_literal:]\n",
    "\n",
    "                #break\n",
    "\n",
    "        \n",
    "#return length_type_id, bit_length,subpackets_length"
   ]
  }
 ],
 "metadata": {
  "kernelspec": {
   "display_name": "Python 3 (ipykernel)",
   "language": "python",
   "name": "python3"
  },
  "language_info": {
   "codemirror_mode": {
    "name": "ipython",
    "version": 3
   },
   "file_extension": ".py",
   "mimetype": "text/x-python",
   "name": "python",
   "nbconvert_exporter": "python",
   "pygments_lexer": "ipython3",
   "version": "3.8.11"
  }
 },
 "nbformat": 4,
 "nbformat_minor": 5
}
