{
 "cells": [
  {
   "cell_type": "markdown",
   "id": "e875bc78-f319-4053-8881-d5717fe5fcfb",
   "metadata": {},
   "source": [
    "# Day 13"
   ]
  },
  {
   "cell_type": "code",
   "execution_count": 1,
   "id": "64ab4614-aa04-4452-9a63-9af9ab577b00",
   "metadata": {},
   "outputs": [],
   "source": [
    "import pandas as pd\n",
    "import numpy as np\n",
    "import sys\n",
    "#np.set_printoptions(threshold=sys.maxsize)"
   ]
  },
  {
   "cell_type": "code",
   "execution_count": 2,
   "id": "9ef21a43-a434-482d-8fec-5772d172e649",
   "metadata": {},
   "outputs": [],
   "source": [
    "with open('input_files/day13_input.txt') as f:\n",
    "    lines = f.read().splitlines()"
   ]
  },
  {
   "cell_type": "code",
   "execution_count": 3,
   "id": "5786257c-4afd-4134-ad5c-9177ed32f4c3",
   "metadata": {},
   "outputs": [],
   "source": [
    "list_dots = [x for x in lines if x != \"\" if x[0].isdigit()]\n",
    "list_folds = [x for x in lines if x != \"\" if not x[0].isdigit()]\n",
    "coordinates = np.genfromtxt(list_dots, delimiter=\",\", dtype=int)\n",
    "\n",
    "def generate_empty_paper(lines, coordinates):\n",
    "    zero_matrix = np.zeros(shape=(np.amax(coordinates, axis=0)[1]+1,np.amax(coordinates, axis=0)[0]+1))\n",
    "    paper = np.where(zero_matrix == 0, \".\", zero_matrix)\n",
    "    return paper\n",
    "\n",
    "def draw_coordinates(paper,coordinates):\n",
    "    for point in coordinates:\n",
    "        #print(point)\n",
    "        x=point[1]\n",
    "        y=point[0]\n",
    "        paper[x,y]=\"x\"\n",
    "    return paper"
   ]
  },
  {
   "cell_type": "code",
   "execution_count": 4,
   "id": "33d9c590-0561-4989-a172-22dc997aea94",
   "metadata": {},
   "outputs": [],
   "source": [
    "paper = generate_empty_paper(lines,coordinates)"
   ]
  },
  {
   "cell_type": "code",
   "execution_count": 5,
   "id": "8e8aa92a-7942-4512-977a-1459c1398f5a",
   "metadata": {},
   "outputs": [
    {
     "data": {
      "text/plain": [
       "array([['.', '.', '.', ..., '.', '.', '.'],\n",
       "       ['.', '.', '.', ..., '.', '.', '.'],\n",
       "       ['.', '.', '.', ..., '.', '.', '.'],\n",
       "       ...,\n",
       "       ['.', '.', '.', ..., '.', '.', '.'],\n",
       "       ['.', '.', '.', ..., '.', '.', '.'],\n",
       "       ['.', '.', '.', ..., '.', '.', '.']], dtype='<U32')"
      ]
     },
     "execution_count": 5,
     "metadata": {},
     "output_type": "execute_result"
    }
   ],
   "source": [
    "draw_coordinates(paper,coordinates)"
   ]
  },
  {
   "cell_type": "code",
   "execution_count": 16,
   "id": "db7f3597-247e-4f30-b3f2-705a36c58303",
   "metadata": {},
   "outputs": [],
   "source": [
    "def fold_along_axis(paper, fold_axis):\n",
    "    axis = fold_axis.split()[2][0]\n",
    "    axis_position = int(fold_axis.split()[2][2:])\n",
    "    x_size = paper.shape[1]\n",
    "    y_size = paper.shape[0]\n",
    "    \n",
    "    if axis == \"y\":\n",
    "        for x in range(0, x_size):\n",
    "            for y in range(axis_position+1, y_size):\n",
    "                if paper[y, x]==\"x\":\n",
    "                    diff_y = y-axis_position\n",
    "                    paper[axis_position-diff_y, x]=\"x\"\n",
    "        paper = paper[0:axis_position,]\n",
    "    elif axis == \"x\":\n",
    "        for x in range(axis_position+1, x_size):\n",
    "            for y in range(0, y_size):\n",
    "                if paper[y, x]==\"x\":\n",
    "                    diff_x = x-axis_position\n",
    "                    paper[y, axis_position-diff_x]=\"x\"\n",
    "        paper = paper[:,0:axis_position]\n",
    "    return paper"
   ]
  },
  {
   "cell_type": "code",
   "execution_count": 18,
   "id": "3dfb7014-2bd8-482a-91a8-a1abbc41b106",
   "metadata": {},
   "outputs": [],
   "source": [
    "paper = fold_along_axis(paper,list_folds[0])"
   ]
  },
  {
   "cell_type": "code",
   "execution_count": 19,
   "id": "bfe95126-c1fd-43e7-9cf3-016eb1c615d5",
   "metadata": {},
   "outputs": [
    {
     "name": "stdout",
     "output_type": "stream",
     "text": [
      "802\n"
     ]
    }
   ],
   "source": [
    "print(np.count_nonzero(paper ==\"x\"))"
   ]
  },
  {
   "cell_type": "markdown",
   "id": "fa537437-128a-4873-9fe0-41756c44c27b",
   "metadata": {},
   "source": [
    "### Part 2"
   ]
  },
  {
   "cell_type": "code",
   "execution_count": 24,
   "id": "2c5c08c6-d541-4c0c-a297-fad1be735ef8",
   "metadata": {},
   "outputs": [
    {
     "name": "stdout",
     "output_type": "stream",
     "text": [
      "802\n",
      "680\n",
      "581\n",
      "478\n",
      "395\n",
      "330\n",
      "278\n",
      "233\n",
      "192\n",
      "160\n",
      "124\n",
      "103\n",
      "[['x' 'x' 'x' '.' '.' 'x' '.' '.' 'x' '.' 'x' '.' '.' 'x' '.' 'x' 'x' 'x'\n",
      "  'x' '.' 'x' 'x' 'x' 'x' '.' '.' 'x' 'x' '.' '.' 'x' '.' '.' 'x' '.' 'x'\n",
      "  'x' 'x' '.' '.']\n",
      " ['x' '.' '.' 'x' '.' 'x' '.' 'x' '.' '.' 'x' '.' '.' 'x' '.' 'x' '.' '.'\n",
      "  '.' '.' '.' '.' '.' 'x' '.' 'x' '.' '.' 'x' '.' 'x' '.' '.' 'x' '.' 'x'\n",
      "  '.' '.' 'x' '.']\n",
      " ['x' '.' '.' 'x' '.' 'x' 'x' '.' '.' '.' 'x' 'x' 'x' 'x' '.' 'x' 'x' 'x'\n",
      "  '.' '.' '.' '.' 'x' '.' '.' 'x' '.' '.' '.' '.' 'x' '.' '.' 'x' '.' 'x'\n",
      "  'x' 'x' '.' '.']\n",
      " ['x' 'x' 'x' '.' '.' 'x' '.' 'x' '.' '.' 'x' '.' '.' 'x' '.' 'x' '.' '.'\n",
      "  '.' '.' '.' 'x' '.' '.' '.' 'x' '.' 'x' 'x' '.' 'x' '.' '.' 'x' '.' 'x'\n",
      "  '.' '.' 'x' '.']\n",
      " ['x' '.' 'x' '.' '.' 'x' '.' 'x' '.' '.' 'x' '.' '.' 'x' '.' 'x' '.' '.'\n",
      "  '.' '.' 'x' '.' '.' '.' '.' 'x' '.' '.' 'x' '.' 'x' '.' '.' 'x' '.' 'x'\n",
      "  '.' '.' 'x' '.']\n",
      " ['x' '.' '.' 'x' '.' 'x' '.' '.' 'x' '.' 'x' '.' '.' 'x' '.' 'x' '.' '.'\n",
      "  '.' '.' 'x' 'x' 'x' 'x' '.' '.' 'x' 'x' 'x' '.' '.' 'x' 'x' '.' '.' 'x'\n",
      "  'x' 'x' '.' '.']]\n"
     ]
    }
   ],
   "source": [
    "paper = generate_empty_paper(lines,coordinates)\n",
    "draw_coordinates(paper,coordinates)\n",
    "for fold in list_folds:\n",
    "    paper = fold_along_axis(paper,fold)\n",
    "    print(np.count_nonzero(paper ==\"x\"))\n",
    "print(paper)"
   ]
  },
  {
   "cell_type": "code",
   "execution_count": 25,
   "id": "21c2092f-abf3-4ba0-8a3f-e69b8c4674d9",
   "metadata": {},
   "outputs": [
    {
     "data": {
      "text/plain": [
       "(6, 40)"
      ]
     },
     "execution_count": 25,
     "metadata": {},
     "output_type": "execute_result"
    }
   ],
   "source": [
    "paper.shape"
   ]
  },
  {
   "cell_type": "code",
   "execution_count": 26,
   "id": "ff494c68-cb81-40b8-a64e-23fe1f036835",
   "metadata": {},
   "outputs": [],
   "source": [
    "np.set_printoptions(threshold=sys.maxsize)"
   ]
  },
  {
   "cell_type": "code",
   "execution_count": 33,
   "id": "a9130e6e-0803-4e53-9481-0425b9b69396",
   "metadata": {},
   "outputs": [
    {
     "data": {
      "text/plain": [
       "array([['x', 'x', 'x', 'x', 'x', 'x'],\n",
       "       ['x', '.', '.', 'x', '.', '.'],\n",
       "       ['x', '.', '.', 'x', 'x', '.'],\n",
       "       ['.', 'x', 'x', '.', '.', 'x'],\n",
       "       ['.', '.', '.', '.', '.', '.'],\n",
       "       ['x', 'x', 'x', 'x', 'x', 'x'],\n",
       "       ['.', '.', 'x', '.', '.', '.'],\n",
       "       ['.', 'x', '.', 'x', 'x', '.'],\n",
       "       ['x', '.', '.', '.', '.', 'x'],\n",
       "       ['.', '.', '.', '.', '.', '.'],\n",
       "       ['x', 'x', 'x', 'x', 'x', 'x'],\n",
       "       ['.', '.', 'x', '.', '.', '.'],\n",
       "       ['.', '.', 'x', '.', '.', '.'],\n",
       "       ['x', 'x', 'x', 'x', 'x', 'x'],\n",
       "       ['.', '.', '.', '.', '.', '.'],\n",
       "       ['x', 'x', 'x', 'x', 'x', 'x'],\n",
       "       ['x', '.', 'x', '.', '.', '.'],\n",
       "       ['x', '.', 'x', '.', '.', '.'],\n",
       "       ['x', '.', '.', '.', '.', '.'],\n",
       "       ['.', '.', '.', '.', '.', '.'],\n",
       "       ['x', '.', '.', '.', 'x', 'x'],\n",
       "       ['x', '.', '.', 'x', '.', 'x'],\n",
       "       ['x', '.', 'x', '.', '.', 'x'],\n",
       "       ['x', 'x', '.', '.', '.', 'x'],\n",
       "       ['.', '.', '.', '.', '.', '.'],\n",
       "       ['.', 'x', 'x', 'x', 'x', '.'],\n",
       "       ['x', '.', '.', '.', '.', 'x'],\n",
       "       ['x', '.', '.', 'x', '.', 'x'],\n",
       "       ['.', 'x', '.', 'x', 'x', 'x'],\n",
       "       ['.', '.', '.', '.', '.', '.'],\n",
       "       ['x', 'x', 'x', 'x', 'x', '.'],\n",
       "       ['.', '.', '.', '.', '.', 'x'],\n",
       "       ['.', '.', '.', '.', '.', 'x'],\n",
       "       ['x', 'x', 'x', 'x', 'x', '.'],\n",
       "       ['.', '.', '.', '.', '.', '.'],\n",
       "       ['x', 'x', 'x', 'x', 'x', 'x'],\n",
       "       ['x', '.', 'x', '.', '.', 'x'],\n",
       "       ['x', '.', 'x', '.', '.', 'x'],\n",
       "       ['.', 'x', '.', 'x', 'x', '.'],\n",
       "       ['.', '.', '.', '.', '.', '.']], dtype='<U32')"
      ]
     },
     "execution_count": 33,
     "metadata": {},
     "output_type": "execute_result"
    }
   ],
   "source": [
    "paper.T"
   ]
  },
  {
   "cell_type": "code",
   "execution_count": 35,
   "id": "7b300581-f372-434b-8592-b1ac2066ddfc",
   "metadata": {},
   "outputs": [
    {
     "data": {
      "text/plain": [
       "array([['x', 'x', 'x', 'x', 'x', 'x'],\n",
       "       ['.', '.', 'x', '.', '.', 'x'],\n",
       "       ['.', 'x', 'x', '.', '.', 'x'],\n",
       "       ['x', '.', '.', 'x', 'x', '.'],\n",
       "       ['.', '.', '.', '.', '.', '.'],\n",
       "       ['x', 'x', 'x', 'x', 'x', 'x'],\n",
       "       ['.', '.', '.', 'x', '.', '.'],\n",
       "       ['.', 'x', 'x', '.', 'x', '.'],\n",
       "       ['x', '.', '.', '.', '.', 'x'],\n",
       "       ['.', '.', '.', '.', '.', '.'],\n",
       "       ['x', 'x', 'x', 'x', 'x', 'x'],\n",
       "       ['.', '.', '.', 'x', '.', '.'],\n",
       "       ['.', '.', '.', 'x', '.', '.'],\n",
       "       ['x', 'x', 'x', 'x', 'x', 'x'],\n",
       "       ['.', '.', '.', '.', '.', '.'],\n",
       "       ['x', 'x', 'x', 'x', 'x', 'x'],\n",
       "       ['.', '.', '.', 'x', '.', 'x'],\n",
       "       ['.', '.', '.', 'x', '.', 'x'],\n",
       "       ['.', '.', '.', '.', '.', 'x'],\n",
       "       ['.', '.', '.', '.', '.', '.'],\n",
       "       ['x', 'x', '.', '.', '.', 'x'],\n",
       "       ['x', '.', 'x', '.', '.', 'x'],\n",
       "       ['x', '.', '.', 'x', '.', 'x'],\n",
       "       ['x', '.', '.', '.', 'x', 'x'],\n",
       "       ['.', '.', '.', '.', '.', '.'],\n",
       "       ['.', 'x', 'x', 'x', 'x', '.'],\n",
       "       ['x', '.', '.', '.', '.', 'x'],\n",
       "       ['x', '.', 'x', '.', '.', 'x'],\n",
       "       ['x', 'x', 'x', '.', 'x', '.'],\n",
       "       ['.', '.', '.', '.', '.', '.'],\n",
       "       ['.', 'x', 'x', 'x', 'x', 'x'],\n",
       "       ['x', '.', '.', '.', '.', '.'],\n",
       "       ['x', '.', '.', '.', '.', '.'],\n",
       "       ['.', 'x', 'x', 'x', 'x', 'x'],\n",
       "       ['.', '.', '.', '.', '.', '.'],\n",
       "       ['x', 'x', 'x', 'x', 'x', 'x'],\n",
       "       ['x', '.', '.', 'x', '.', 'x'],\n",
       "       ['x', '.', '.', 'x', '.', 'x'],\n",
       "       ['.', 'x', 'x', '.', 'x', '.'],\n",
       "       ['.', '.', '.', '.', '.', '.']], dtype='<U32')"
      ]
     },
     "execution_count": 35,
     "metadata": {},
     "output_type": "execute_result"
    }
   ],
   "source": [
    "np.flip(paper.T, axis=1)"
   ]
  },
  {
   "cell_type": "code",
   "execution_count": null,
   "id": "88ba8fa6-9186-492f-af8c-b2ddf5a02b07",
   "metadata": {},
   "outputs": [],
   "source": []
  }
 ],
 "metadata": {
  "kernelspec": {
   "display_name": "Python 3 (ipykernel)",
   "language": "python",
   "name": "python3"
  },
  "language_info": {
   "codemirror_mode": {
    "name": "ipython",
    "version": 3
   },
   "file_extension": ".py",
   "mimetype": "text/x-python",
   "name": "python",
   "nbconvert_exporter": "python",
   "pygments_lexer": "ipython3",
   "version": "3.8.11"
  }
 },
 "nbformat": 4,
 "nbformat_minor": 5
}
